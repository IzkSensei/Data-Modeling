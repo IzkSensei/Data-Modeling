{
  "nbformat": 4,
  "nbformat_minor": 0,
  "metadata": {
    "colab": {
      "name": "Data_Modeling.ipynb",
      "provenance": [],
      "collapsed_sections": [
        "GkFVaenzEt1U",
        "5R_S7bHdElvy",
        "z3x8J3ZkxIzM",
        "SzkIao_n0TO2",
        "AEkvvMTI1hLl",
        "INfeMWgK7a7I",
        "z2wUKh83SBi0",
        "x8AlkPcsD4y6",
        "f7iMlxEBCDyJ",
        "gkoQeUISmn3h",
        "w_lOtqIVZIFK",
        "0T9rbWjrZPQB",
        "TwVXqv7fWAKZ",
        "Qj0Rc8gjBCXR"
      ]
    },
    "kernelspec": {
      "name": "python3",
      "display_name": "Python 3"
    },
    "language_info": {
      "name": "python"
    }
  },
  "cells": [
    {
      "cell_type": "markdown",
      "metadata": {
        "id": "N91y52jhl9GU"
      },
      "source": [
        ""
      ]
    },
    {
      "cell_type": "markdown",
      "metadata": {
        "id": "_Ucs7khewvm9"
      },
      "source": [
        "## * You Can Download Sankey Diagram of App From Link Below:\n",
        "# https://drive.google.com/file/d/1-0EPh034VQ6I5MGzOhGSowZbEj_RcYnB/view?usp=sharing"
      ]
    },
    {
      "cell_type": "markdown",
      "metadata": {
        "id": "GkFVaenzEt1U"
      },
      "source": [
        "#imports\n"
      ]
    },
    {
      "cell_type": "code",
      "metadata": {
        "id": "IfXxdHIYod9a"
      },
      "source": [
        "from google.colab import drive\n",
        "drive.mount('/content/gdrive')\n",
        "%cd /content/gdrive/MyDrive/Colab Notebooks/Data_Modeling"
      ],
      "execution_count": null,
      "outputs": []
    },
    {
      "cell_type": "code",
      "metadata": {
        "colab": {
          "base_uri": "https://localhost:8080/"
        },
        "id": "hq3vdGCOXolV",
        "outputId": "e59b982c-547c-4a09-a237-031a30e9d9b3"
      },
      "source": [
        "!pip install chart_studio"
      ],
      "execution_count": null,
      "outputs": [
        {
          "output_type": "stream",
          "text": [
            "Requirement already satisfied: chart_studio in /usr/local/lib/python3.7/dist-packages (1.1.0)\n",
            "Requirement already satisfied: six in /usr/local/lib/python3.7/dist-packages (from chart_studio) (1.15.0)\n",
            "Requirement already satisfied: requests in /usr/local/lib/python3.7/dist-packages (from chart_studio) (2.23.0)\n",
            "Requirement already satisfied: retrying>=1.3.3 in /usr/local/lib/python3.7/dist-packages (from chart_studio) (1.3.3)\n",
            "Requirement already satisfied: plotly in /usr/local/lib/python3.7/dist-packages (from chart_studio) (4.4.1)\n",
            "Requirement already satisfied: urllib3!=1.25.0,!=1.25.1,<1.26,>=1.21.1 in /usr/local/lib/python3.7/dist-packages (from requests->chart_studio) (1.24.3)\n",
            "Requirement already satisfied: chardet<4,>=3.0.2 in /usr/local/lib/python3.7/dist-packages (from requests->chart_studio) (3.0.4)\n",
            "Requirement already satisfied: certifi>=2017.4.17 in /usr/local/lib/python3.7/dist-packages (from requests->chart_studio) (2021.5.30)\n",
            "Requirement already satisfied: idna<3,>=2.5 in /usr/local/lib/python3.7/dist-packages (from requests->chart_studio) (2.10)\n"
          ],
          "name": "stdout"
        }
      ]
    },
    {
      "cell_type": "markdown",
      "metadata": {
        "id": "5R_S7bHdElvy"
      },
      "source": [
        "#Basic"
      ]
    },
    {
      "cell_type": "markdown",
      "metadata": {
        "id": "hOJIdiQFG1WS"
      },
      "source": [
        "Some basic data prepration and visulaization"
      ]
    },
    {
      "cell_type": "code",
      "metadata": {
        "id": "uPMTqrRZpyZ-"
      },
      "source": [
        "import numpy as np \n",
        "import pandas as pd \n",
        "import seaborn as sns\n",
        "import re\n",
        "import matplotlib.pyplot as plt\n",
        "from matplotlib import pyplot\n",
        "from pandas.plotting import scatter_matrix\n",
        "plt.style.use('seaborn')"
      ],
      "execution_count": null,
      "outputs": []
    },
    {
      "cell_type": "code",
      "metadata": {
        "colab": {
          "base_uri": "https://localhost:8080/",
          "height": 204
        },
        "id": "EyLoJBo-qNbx",
        "outputId": "cb7d76a0-2c69-4b72-a9df-f5eb059586b3"
      },
      "source": [
        "path ='Ads_Data.xlsx'\n",
        "Data = pd.read_excel(path)\n",
        "Data.head()"
      ],
      "execution_count": null,
      "outputs": [
        {
          "output_type": "execute_result",
          "data": {
            "text/html": [
              "<div>\n",
              "<style scoped>\n",
              "    .dataframe tbody tr th:only-of-type {\n",
              "        vertical-align: middle;\n",
              "    }\n",
              "\n",
              "    .dataframe tbody tr th {\n",
              "        vertical-align: top;\n",
              "    }\n",
              "\n",
              "    .dataframe thead th {\n",
              "        text-align: right;\n",
              "    }\n",
              "</style>\n",
              "<table border=\"1\" class=\"dataframe\">\n",
              "  <thead>\n",
              "    <tr style=\"text-align: right;\">\n",
              "      <th></th>\n",
              "      <th>action</th>\n",
              "      <th>created_at</th>\n",
              "      <th>source_event_id</th>\n",
              "      <th>device_id</th>\n",
              "      <th>post_page_offset</th>\n",
              "      <th>tokens</th>\n",
              "      <th>post_index_in_post_list</th>\n",
              "      <th>post_token</th>\n",
              "    </tr>\n",
              "  </thead>\n",
              "  <tbody>\n",
              "    <tr>\n",
              "      <th>0</th>\n",
              "      <td>load_post_page</td>\n",
              "      <td>1609545001150</td>\n",
              "      <td>1575558c-a702-46ef-8e18-bc5cef761473</td>\n",
              "      <td>Ed9EADRZRXCHcrcEP_Hnkg</td>\n",
              "      <td>26.0</td>\n",
              "      <td>[wXvP3enu, wXvHXzUS, wXvPHXVe, wXvPHRs3, wXvH3...</td>\n",
              "      <td>NaN</td>\n",
              "      <td>NaN</td>\n",
              "    </tr>\n",
              "    <tr>\n",
              "      <th>1</th>\n",
              "      <td>load_post_page</td>\n",
              "      <td>1609545121641</td>\n",
              "      <td>0fd004f4-ce9b-4766-ac96-7578dedebacb</td>\n",
              "      <td>5aVIp_PNSAWxqwBETYpmxQ</td>\n",
              "      <td>19.0</td>\n",
              "      <td>[wXujANbk, wXurAJsf, wXufwlh1, wXtr_4tD, wXujg...</td>\n",
              "      <td>NaN</td>\n",
              "      <td>NaN</td>\n",
              "    </tr>\n",
              "    <tr>\n",
              "      <th>2</th>\n",
              "      <td>load_post_page</td>\n",
              "      <td>1609545009147</td>\n",
              "      <td>479905f2-3bb4-4c90-8e88-5ce4b60d0a73</td>\n",
              "      <td>mt0UAT4AQe2dECdXBvKYBA</td>\n",
              "      <td>0.0</td>\n",
              "      <td>[wXvHbNqU, wXvDrof9, wXv_aXHk, wXvDrSIa, wXv_a...</td>\n",
              "      <td>NaN</td>\n",
              "      <td>NaN</td>\n",
              "    </tr>\n",
              "    <tr>\n",
              "      <th>3</th>\n",
              "      <td>load_post_page</td>\n",
              "      <td>1609546776979</td>\n",
              "      <td>b9b609bd-a486-42fb-b1a9-5ca03cf4a215</td>\n",
              "      <td>huSKUX-mSwyUcGzgSbXX6g</td>\n",
              "      <td>0.0</td>\n",
              "      <td>[wXvb7cpv, wXvH3hL0, wXvjmDaE, wXvT0sOS, wXv_j...</td>\n",
              "      <td>NaN</td>\n",
              "      <td>NaN</td>\n",
              "    </tr>\n",
              "    <tr>\n",
              "      <th>4</th>\n",
              "      <td>load_post_page</td>\n",
              "      <td>1609547182717</td>\n",
              "      <td>6c390fce-34b6-4e19-837e-6bc295a72514</td>\n",
              "      <td>sL5fLDdoR9a7aDGPP8N-jA</td>\n",
              "      <td>1.0</td>\n",
              "      <td>[wXvjJTIc, wXvb5_SX, wXvb54Gs, wXvb5t6J, wXvbJ...</td>\n",
              "      <td>NaN</td>\n",
              "      <td>NaN</td>\n",
              "    </tr>\n",
              "  </tbody>\n",
              "</table>\n",
              "</div>"
            ],
            "text/plain": [
              "           action     created_at  ... post_index_in_post_list post_token\n",
              "0  load_post_page  1609545001150  ...                     NaN        NaN\n",
              "1  load_post_page  1609545121641  ...                     NaN        NaN\n",
              "2  load_post_page  1609545009147  ...                     NaN        NaN\n",
              "3  load_post_page  1609546776979  ...                     NaN        NaN\n",
              "4  load_post_page  1609547182717  ...                     NaN        NaN\n",
              "\n",
              "[5 rows x 8 columns]"
            ]
          },
          "metadata": {
            "tags": []
          },
          "execution_count": 6
        }
      ]
    },
    {
      "cell_type": "code",
      "metadata": {
        "id": "1PK5VpQ0SXL-",
        "colab": {
          "base_uri": "https://localhost:8080/",
          "height": 359
        },
        "outputId": "a7315e14-5df5-4a9f-eaa3-f2ee75ecf018"
      },
      "source": [
        "Data.sort_values('created_at').head(10)"
      ],
      "execution_count": null,
      "outputs": [
        {
          "output_type": "execute_result",
          "data": {
            "text/html": [
              "<div>\n",
              "<style scoped>\n",
              "    .dataframe tbody tr th:only-of-type {\n",
              "        vertical-align: middle;\n",
              "    }\n",
              "\n",
              "    .dataframe tbody tr th {\n",
              "        vertical-align: top;\n",
              "    }\n",
              "\n",
              "    .dataframe thead th {\n",
              "        text-align: right;\n",
              "    }\n",
              "</style>\n",
              "<table border=\"1\" class=\"dataframe\">\n",
              "  <thead>\n",
              "    <tr style=\"text-align: right;\">\n",
              "      <th></th>\n",
              "      <th>action</th>\n",
              "      <th>created_at</th>\n",
              "      <th>source_event_id</th>\n",
              "      <th>device_id</th>\n",
              "      <th>post_page_offset</th>\n",
              "      <th>tokens</th>\n",
              "      <th>post_index_in_post_list</th>\n",
              "      <th>post_token</th>\n",
              "    </tr>\n",
              "  </thead>\n",
              "  <tbody>\n",
              "    <tr>\n",
              "      <th>26178</th>\n",
              "      <td>load_post_page</td>\n",
              "      <td>1609461369213</td>\n",
              "      <td>1fc5ef66-aaad-4cf5-8e36-1e974de66fdf</td>\n",
              "      <td>lJgu0b3FQG6_grFbXenl2Q</td>\n",
              "      <td>0.0</td>\n",
              "      <td>[wXtbOKF-, wXtLeB6p, wXpbfeIJ, wXt38PoX, wXt7K...</td>\n",
              "      <td>NaN</td>\n",
              "      <td>NaN</td>\n",
              "    </tr>\n",
              "    <tr>\n",
              "      <th>56013</th>\n",
              "      <td>load_post_page</td>\n",
              "      <td>1609461378164</td>\n",
              "      <td>79910930-7296-4342-ae09-8e55e4803940</td>\n",
              "      <td>lJgu0b3FQG6_grFbXenl2Q</td>\n",
              "      <td>0.0</td>\n",
              "      <td>[wXvPByYA, wXmHw9qd, wXsPnrBu, wXsTzSjv, wXrXX...</td>\n",
              "      <td>NaN</td>\n",
              "      <td>NaN</td>\n",
              "    </tr>\n",
              "    <tr>\n",
              "      <th>68800</th>\n",
              "      <td>load_post_page</td>\n",
              "      <td>1609461425007</td>\n",
              "      <td>79910930-7296-4342-ae09-8e55e4803940</td>\n",
              "      <td>lJgu0b3FQG6_grFbXenl2Q</td>\n",
              "      <td>1.0</td>\n",
              "      <td>[wXWrwAAW, wXVXrn3e, wXUrG55o, wXRvrx9F, wXIX6...</td>\n",
              "      <td>NaN</td>\n",
              "      <td>NaN</td>\n",
              "    </tr>\n",
              "    <tr>\n",
              "      <th>102202</th>\n",
              "      <td>load_post_page</td>\n",
              "      <td>1609461448740</td>\n",
              "      <td>21a5377e-c7c2-4b08-805c-6b580e0f074d</td>\n",
              "      <td>lJgu0b3FQG6_grFbXenl2Q</td>\n",
              "      <td>0.0</td>\n",
              "      <td>[wXtT-_XF, wXs_6TLh, wXpneaBg, wXpX9Pdu, wXoL-...</td>\n",
              "      <td>NaN</td>\n",
              "      <td>NaN</td>\n",
              "    </tr>\n",
              "    <tr>\n",
              "      <th>24308</th>\n",
              "      <td>click_post</td>\n",
              "      <td>1609461463452</td>\n",
              "      <td>21a5377e-c7c2-4b08-805c-6b580e0f074d</td>\n",
              "      <td>lJgu0b3FQG6_grFbXenl2Q</td>\n",
              "      <td>NaN</td>\n",
              "      <td>NaN</td>\n",
              "      <td>5.0</td>\n",
              "      <td>wXoL-Kbx</td>\n",
              "    </tr>\n",
              "    <tr>\n",
              "      <th>102919</th>\n",
              "      <td>click_post</td>\n",
              "      <td>1609461490096</td>\n",
              "      <td>21a5377e-c7c2-4b08-805c-6b580e0f074d</td>\n",
              "      <td>lJgu0b3FQG6_grFbXenl2Q</td>\n",
              "      <td>NaN</td>\n",
              "      <td>NaN</td>\n",
              "      <td>8.0</td>\n",
              "      <td>wXgfv-Z0</td>\n",
              "    </tr>\n",
              "    <tr>\n",
              "      <th>76544</th>\n",
              "      <td>click_post</td>\n",
              "      <td>1609461516071</td>\n",
              "      <td>21a5377e-c7c2-4b08-805c-6b580e0f074d</td>\n",
              "      <td>lJgu0b3FQG6_grFbXenl2Q</td>\n",
              "      <td>NaN</td>\n",
              "      <td>NaN</td>\n",
              "      <td>12.0</td>\n",
              "      <td>wXbnjxCm</td>\n",
              "    </tr>\n",
              "    <tr>\n",
              "      <th>24534</th>\n",
              "      <td>load_post_page</td>\n",
              "      <td>1609461565359</td>\n",
              "      <td>d1dbb841-5cad-462a-9c0d-3688c3213dcd</td>\n",
              "      <td>lJgu0b3FQG6_grFbXenl2Q</td>\n",
              "      <td>0.0</td>\n",
              "      <td>[wXvT74zf, wXvHquvw, wXv7Zrpa, wXvzJls9, wXvbZ...</td>\n",
              "      <td>NaN</td>\n",
              "      <td>NaN</td>\n",
              "    </tr>\n",
              "    <tr>\n",
              "      <th>12324</th>\n",
              "      <td>click_post</td>\n",
              "      <td>1609461575426</td>\n",
              "      <td>d1dbb841-5cad-462a-9c0d-3688c3213dcd</td>\n",
              "      <td>lJgu0b3FQG6_grFbXenl2Q</td>\n",
              "      <td>NaN</td>\n",
              "      <td>NaN</td>\n",
              "      <td>5.0</td>\n",
              "      <td>wXvbZtZU</td>\n",
              "    </tr>\n",
              "    <tr>\n",
              "      <th>88850</th>\n",
              "      <td>load_post_page</td>\n",
              "      <td>1609461612388</td>\n",
              "      <td>d1dbb841-5cad-462a-9c0d-3688c3213dcd</td>\n",
              "      <td>lJgu0b3FQG6_grFbXenl2Q</td>\n",
              "      <td>1.0</td>\n",
              "      <td>[wXvTVW9G, wXvT1TPg, wXrnib-6, wXvzWgkP, wXsnk...</td>\n",
              "      <td>NaN</td>\n",
              "      <td>NaN</td>\n",
              "    </tr>\n",
              "  </tbody>\n",
              "</table>\n",
              "</div>"
            ],
            "text/plain": [
              "                action     created_at  ... post_index_in_post_list post_token\n",
              "26178   load_post_page  1609461369213  ...                     NaN        NaN\n",
              "56013   load_post_page  1609461378164  ...                     NaN        NaN\n",
              "68800   load_post_page  1609461425007  ...                     NaN        NaN\n",
              "102202  load_post_page  1609461448740  ...                     NaN        NaN\n",
              "24308       click_post  1609461463452  ...                     5.0   wXoL-Kbx\n",
              "102919      click_post  1609461490096  ...                     8.0   wXgfv-Z0\n",
              "76544       click_post  1609461516071  ...                    12.0   wXbnjxCm\n",
              "24534   load_post_page  1609461565359  ...                     NaN        NaN\n",
              "12324       click_post  1609461575426  ...                     5.0   wXvbZtZU\n",
              "88850   load_post_page  1609461612388  ...                     NaN        NaN\n",
              "\n",
              "[10 rows x 8 columns]"
            ]
          },
          "metadata": {
            "tags": []
          },
          "execution_count": 7
        }
      ]
    },
    {
      "cell_type": "code",
      "metadata": {
        "colab": {
          "base_uri": "https://localhost:8080/",
          "height": 297
        },
        "id": "yT97xsIY33W5",
        "outputId": "423db939-b40c-4073-a6dc-6d97489820f7"
      },
      "source": [
        "Data.describe()"
      ],
      "execution_count": null,
      "outputs": [
        {
          "output_type": "execute_result",
          "data": {
            "text/html": [
              "<div>\n",
              "<style scoped>\n",
              "    .dataframe tbody tr th:only-of-type {\n",
              "        vertical-align: middle;\n",
              "    }\n",
              "\n",
              "    .dataframe tbody tr th {\n",
              "        vertical-align: top;\n",
              "    }\n",
              "\n",
              "    .dataframe thead th {\n",
              "        text-align: right;\n",
              "    }\n",
              "</style>\n",
              "<table border=\"1\" class=\"dataframe\">\n",
              "  <thead>\n",
              "    <tr style=\"text-align: right;\">\n",
              "      <th></th>\n",
              "      <th>created_at</th>\n",
              "      <th>post_page_offset</th>\n",
              "      <th>post_index_in_post_list</th>\n",
              "    </tr>\n",
              "  </thead>\n",
              "  <tbody>\n",
              "    <tr>\n",
              "      <th>count</th>\n",
              "      <td>1.110830e+05</td>\n",
              "      <td>35287.000000</td>\n",
              "      <td>75796.000000</td>\n",
              "    </tr>\n",
              "    <tr>\n",
              "      <th>mean</th>\n",
              "      <td>1.609545e+12</td>\n",
              "      <td>8.673761</td>\n",
              "      <td>127.616418</td>\n",
              "    </tr>\n",
              "    <tr>\n",
              "      <th>std</th>\n",
              "      <td>2.895533e+06</td>\n",
              "      <td>16.059840</td>\n",
              "      <td>272.981195</td>\n",
              "    </tr>\n",
              "    <tr>\n",
              "      <th>min</th>\n",
              "      <td>1.609461e+12</td>\n",
              "      <td>0.000000</td>\n",
              "      <td>1.000000</td>\n",
              "    </tr>\n",
              "    <tr>\n",
              "      <th>25%</th>\n",
              "      <td>1.609544e+12</td>\n",
              "      <td>0.000000</td>\n",
              "      <td>11.000000</td>\n",
              "    </tr>\n",
              "    <tr>\n",
              "      <th>50%</th>\n",
              "      <td>1.609545e+12</td>\n",
              "      <td>3.000000</td>\n",
              "      <td>41.000000</td>\n",
              "    </tr>\n",
              "    <tr>\n",
              "      <th>75%</th>\n",
              "      <td>1.609546e+12</td>\n",
              "      <td>9.000000</td>\n",
              "      <td>124.000000</td>\n",
              "    </tr>\n",
              "    <tr>\n",
              "      <th>max</th>\n",
              "      <td>1.609634e+12</td>\n",
              "      <td>161.000000</td>\n",
              "      <td>5176.000000</td>\n",
              "    </tr>\n",
              "  </tbody>\n",
              "</table>\n",
              "</div>"
            ],
            "text/plain": [
              "         created_at  post_page_offset  post_index_in_post_list\n",
              "count  1.110830e+05      35287.000000             75796.000000\n",
              "mean   1.609545e+12          8.673761               127.616418\n",
              "std    2.895533e+06         16.059840               272.981195\n",
              "min    1.609461e+12          0.000000                 1.000000\n",
              "25%    1.609544e+12          0.000000                11.000000\n",
              "50%    1.609545e+12          3.000000                41.000000\n",
              "75%    1.609546e+12          9.000000               124.000000\n",
              "max    1.609634e+12        161.000000              5176.000000"
            ]
          },
          "metadata": {
            "tags": []
          },
          "execution_count": 8
        }
      ]
    },
    {
      "cell_type": "code",
      "metadata": {
        "colab": {
          "base_uri": "https://localhost:8080/"
        },
        "id": "yOGf8Hya5bYA",
        "outputId": "75e5382b-08c6-4cc5-de3b-bbd6b73d9721"
      },
      "source": [
        "Data.shape"
      ],
      "execution_count": null,
      "outputs": [
        {
          "output_type": "execute_result",
          "data": {
            "text/plain": [
              "(111083, 8)"
            ]
          },
          "metadata": {
            "tags": []
          },
          "execution_count": 9
        }
      ]
    },
    {
      "cell_type": "code",
      "metadata": {
        "id": "WeF1gKPHtxio",
        "colab": {
          "base_uri": "https://localhost:8080/",
          "height": 607
        },
        "outputId": "2375f2e9-3cfa-4829-b627-2f24dadab4d8"
      },
      "source": [
        "Data.hist(figsize=(10,10))\n",
        "plt.show()"
      ],
      "execution_count": null,
      "outputs": [
        {
          "output_type": "display_data",
          "data": {
            "image/png": "[encoded data removed]",
            "text/plain": [
              "<Figure size 720x720 with 4 Axes>"
            ]
          },
          "metadata": {
            "tags": []
          }
        }
      ]
    },
    {
      "cell_type": "code",
      "metadata": {
        "id": "bYTfByb_uTp9",
        "colab": {
          "base_uri": "https://localhost:8080/",
          "height": 424
        },
        "outputId": "b488919f-5e00-4bdf-88be-bd36202c38b7"
      },
      "source": [
        "plt.figure(figsize=(8,6))\n",
        "corr = Data.corr()\n",
        "sns.heatmap(corr,annot=True)"
      ],
      "execution_count": null,
      "outputs": [
        {
          "output_type": "execute_result",
          "data": {
            "text/plain": [
              "<matplotlib.axes._subplots.AxesSubplot at 0x7fb1090fc490>"
            ]
          },
          "metadata": {
            "tags": []
          },
          "execution_count": 10
        },
        {
          "output_type": "display_data",
          "data": {
            "image/png": "[encoded data removed]",
            "text/plain": [
              "<Figure size 576x432 with 2 Axes>"
            ]
          },
          "metadata": {
            "tags": []
          }
        }
      ]
    },
    {
      "cell_type": "code",
      "metadata": {
        "id": "bdQSKrRHuqQz",
        "colab": {
          "base_uri": "https://localhost:8080/",
          "height": 458
        },
        "outputId": "a464e7bd-472c-4509-c66b-c01d595e9c9b"
      },
      "source": [
        "plt.figure(figsize=(16, 8))\n",
        "ax = sns.jointplot(x=Data['action'],y=Data['post_page_offset'],data=Data,s=10)"
      ],
      "execution_count": null,
      "outputs": [
        {
          "output_type": "display_data",
          "data": {
            "text/plain": [
              "<Figure size 1152x576 with 0 Axes>"
            ]
          },
          "metadata": {
            "tags": []
          }
        },
        {
          "output_type": "display_data",
          "data": {
            "image/png": "[encoded data removed]",
            "text/plain": [
              "<Figure size 432x432 with 3 Axes>"
            ]
          },
          "metadata": {
            "tags": []
          }
        }
      ]
    },
    {
      "cell_type": "code",
      "metadata": {
        "id": "GxHCSfJyvMa2",
        "colab": {
          "base_uri": "https://localhost:8080/",
          "height": 458
        },
        "outputId": "1bb37aed-506c-4ad8-e831-2628ac1948fe"
      },
      "source": [
        "plt.figure(figsize=(16, 8))\n",
        "ax = sns.jointplot(x=Data['action'],y=Data['post_index_in_post_list'],data=Data,s=10)"
      ],
      "execution_count": null,
      "outputs": [
        {
          "output_type": "display_data",
          "data": {
            "text/plain": [
              "<Figure size 1152x576 with 0 Axes>"
            ]
          },
          "metadata": {
            "tags": []
          }
        },
        {
          "output_type": "display_data",
          "data": {
            "image/png": "[encoded data removed]",
            "text/plain": [
              "<Figure size 432x432 with 3 Axes>"
            ]
          },
          "metadata": {
            "tags": []
          }
        }
      ]
    },
    {
      "cell_type": "code",
      "metadata": {
        "id": "pUy2D8ncvZTq",
        "colab": {
          "base_uri": "https://localhost:8080/",
          "height": 458
        },
        "outputId": "be12c3e5-30d4-4d4c-816e-f76feb0df802"
      },
      "source": [
        "plt.figure(figsize=(16, 8))\n",
        "ax = sns.jointplot(x=Data['post_page_offset'],y=Data['post_index_in_post_list'],data=Data)"
      ],
      "execution_count": null,
      "outputs": [
        {
          "output_type": "display_data",
          "data": {
            "text/plain": [
              "<Figure size 1152x576 with 0 Axes>"
            ]
          },
          "metadata": {
            "tags": []
          }
        },
        {
          "output_type": "display_data",
          "data": {
            "image/png": "[encoded data removed]",
            "text/plain": [
              "<Figure size 432x432 with 3 Axes>"
            ]
          },
          "metadata": {
            "tags": []
          }
        }
      ]
    },
    {
      "cell_type": "code",
      "metadata": {
        "id": "uDHrmWjIvgSe",
        "colab": {
          "base_uri": "https://localhost:8080/",
          "height": 567
        },
        "outputId": "5c67642d-d763-428c-e95b-b6b7773d5c41"
      },
      "source": [
        "sns.pairplot(Data)"
      ],
      "execution_count": null,
      "outputs": [
        {
          "output_type": "execute_result",
          "data": {
            "text/plain": [
              "<seaborn.axisgrid.PairGrid at 0x7f325d23a7d0>"
            ]
          },
          "metadata": {
            "tags": []
          },
          "execution_count": 174
        },
        {
          "output_type": "display_data",
          "data": {
            "image/png": "[encoded data removed]",
            "text/plain": [
              "<Figure size 540x540 with 12 Axes>"
            ]
          },
          "metadata": {
            "tags": []
          }
        }
      ]
    },
    {
      "cell_type": "markdown",
      "metadata": {
        "id": "z3x8J3ZkxIzM"
      },
      "source": [
        "#Preprocess\n"
      ]
    },
    {
      "cell_type": "markdown",
      "metadata": {
        "id": "5oQ56ph8G-oC"
      },
      "source": [
        "Making data standard like: changing time format and ..."
      ]
    },
    {
      "cell_type": "code",
      "metadata": {
        "id": "Te9UygyIvAiN"
      },
      "source": [
        "Data['created_at']=pd.to_datetime(Data['created_at'], unit='ms')"
      ],
      "execution_count": null,
      "outputs": []
    },
    {
      "cell_type": "code",
      "metadata": {
        "id": "f3gwgfZBA6v7"
      },
      "source": [
        "Data=Data.sort_values('created_at')"
      ],
      "execution_count": null,
      "outputs": []
    },
    {
      "cell_type": "code",
      "metadata": {
        "colab": {
          "base_uri": "https://localhost:8080/",
          "height": 289
        },
        "id": "OlSLihwMA9fU",
        "outputId": "a9ffbec4-41fe-49e5-b9a2-aa88babdd9ba"
      },
      "source": [
        "Data.head()"
      ],
      "execution_count": null,
      "outputs": [
        {
          "output_type": "execute_result",
          "data": {
            "text/html": [
              "<div>\n",
              "<style scoped>\n",
              "    .dataframe tbody tr th:only-of-type {\n",
              "        vertical-align: middle;\n",
              "    }\n",
              "\n",
              "    .dataframe tbody tr th {\n",
              "        vertical-align: top;\n",
              "    }\n",
              "\n",
              "    .dataframe thead th {\n",
              "        text-align: right;\n",
              "    }\n",
              "</style>\n",
              "<table border=\"1\" class=\"dataframe\">\n",
              "  <thead>\n",
              "    <tr style=\"text-align: right;\">\n",
              "      <th></th>\n",
              "      <th>action</th>\n",
              "      <th>created_at</th>\n",
              "      <th>source_event_id</th>\n",
              "      <th>device_id</th>\n",
              "      <th>post_page_offset</th>\n",
              "      <th>tokens</th>\n",
              "      <th>post_index_in_post_list</th>\n",
              "      <th>post_token</th>\n",
              "    </tr>\n",
              "  </thead>\n",
              "  <tbody>\n",
              "    <tr>\n",
              "      <th>26178</th>\n",
              "      <td>load_post_page</td>\n",
              "      <td>2021-01-01 00:36:09.213</td>\n",
              "      <td>1fc5ef66-aaad-4cf5-8e36-1e974de66fdf</td>\n",
              "      <td>lJgu0b3FQG6_grFbXenl2Q</td>\n",
              "      <td>0.0</td>\n",
              "      <td>[wXtbOKF-, wXtLeB6p, wXpbfeIJ, wXt38PoX, wXt7K...</td>\n",
              "      <td>NaN</td>\n",
              "      <td>NaN</td>\n",
              "    </tr>\n",
              "    <tr>\n",
              "      <th>56013</th>\n",
              "      <td>load_post_page</td>\n",
              "      <td>2021-01-01 00:36:18.164</td>\n",
              "      <td>79910930-7296-4342-ae09-8e55e4803940</td>\n",
              "      <td>lJgu0b3FQG6_grFbXenl2Q</td>\n",
              "      <td>0.0</td>\n",
              "      <td>[wXvPByYA, wXmHw9qd, wXsPnrBu, wXsTzSjv, wXrXX...</td>\n",
              "      <td>NaN</td>\n",
              "      <td>NaN</td>\n",
              "    </tr>\n",
              "    <tr>\n",
              "      <th>68800</th>\n",
              "      <td>load_post_page</td>\n",
              "      <td>2021-01-01 00:37:05.007</td>\n",
              "      <td>79910930-7296-4342-ae09-8e55e4803940</td>\n",
              "      <td>lJgu0b3FQG6_grFbXenl2Q</td>\n",
              "      <td>1.0</td>\n",
              "      <td>[wXWrwAAW, wXVXrn3e, wXUrG55o, wXRvrx9F, wXIX6...</td>\n",
              "      <td>NaN</td>\n",
              "      <td>NaN</td>\n",
              "    </tr>\n",
              "    <tr>\n",
              "      <th>102202</th>\n",
              "      <td>load_post_page</td>\n",
              "      <td>2021-01-01 00:37:28.740</td>\n",
              "      <td>21a5377e-c7c2-4b08-805c-6b580e0f074d</td>\n",
              "      <td>lJgu0b3FQG6_grFbXenl2Q</td>\n",
              "      <td>0.0</td>\n",
              "      <td>[wXtT-_XF, wXs_6TLh, wXpneaBg, wXpX9Pdu, wXoL-...</td>\n",
              "      <td>NaN</td>\n",
              "      <td>NaN</td>\n",
              "    </tr>\n",
              "    <tr>\n",
              "      <th>24308</th>\n",
              "      <td>click_post</td>\n",
              "      <td>2021-01-01 00:37:43.452</td>\n",
              "      <td>21a5377e-c7c2-4b08-805c-6b580e0f074d</td>\n",
              "      <td>lJgu0b3FQG6_grFbXenl2Q</td>\n",
              "      <td>NaN</td>\n",
              "      <td>NaN</td>\n",
              "      <td>5.0</td>\n",
              "      <td>wXoL-Kbx</td>\n",
              "    </tr>\n",
              "  </tbody>\n",
              "</table>\n",
              "</div>"
            ],
            "text/plain": [
              "                action  ... post_token\n",
              "26178   load_post_page  ...        NaN\n",
              "56013   load_post_page  ...        NaN\n",
              "68800   load_post_page  ...        NaN\n",
              "102202  load_post_page  ...        NaN\n",
              "24308       click_post  ...   wXoL-Kbx\n",
              "\n",
              "[5 rows x 8 columns]"
            ]
          },
          "metadata": {
            "tags": []
          },
          "execution_count": 12
        }
      ]
    },
    {
      "cell_type": "markdown",
      "metadata": {
        "id": "SzkIao_n0TO2"
      },
      "source": [
        "#Dark Query percent:\n"
      ]
    },
    {
      "cell_type": "markdown",
      "metadata": {
        "id": "kSZOH02MHIfv"
      },
      "source": [
        "We calculate total number of tokens in dataframe and saving result as new column and calculate ratio"
      ]
    },
    {
      "cell_type": "code",
      "metadata": {
        "id": "DYP5g5mXxqzT"
      },
      "source": [
        "Data.loc[:,'tokens_length']= Data['tokens'].map(lambda x: len(re.sub(\n",
        "    \"[^\\w\\-]\", \" \",  x).split()) if type(x)!=float else np.nan)"
      ],
      "execution_count": null,
      "outputs": []
    },
    {
      "cell_type": "code",
      "metadata": {
        "id": "IuKkWzlCEMW4",
        "colab": {
          "base_uri": "https://localhost:8080/",
          "height": 204
        },
        "outputId": "66451f1b-c195-48ea-cada-986b5446a6a1"
      },
      "source": [
        "query_results=Data[Data['action']=='load_post_page'].groupby(\n",
        "    'source_event_id')['tokens_length'].sum().reset_index()\n",
        "query_results.head()"
      ],
      "execution_count": null,
      "outputs": [
        {
          "output_type": "execute_result",
          "data": {
            "text/html": [
              "<div>\n",
              "<style scoped>\n",
              "    .dataframe tbody tr th:only-of-type {\n",
              "        vertical-align: middle;\n",
              "    }\n",
              "\n",
              "    .dataframe tbody tr th {\n",
              "        vertical-align: top;\n",
              "    }\n",
              "\n",
              "    .dataframe thead th {\n",
              "        text-align: right;\n",
              "    }\n",
              "</style>\n",
              "<table border=\"1\" class=\"dataframe\">\n",
              "  <thead>\n",
              "    <tr style=\"text-align: right;\">\n",
              "      <th></th>\n",
              "      <th>source_event_id</th>\n",
              "      <th>tokens_length</th>\n",
              "    </tr>\n",
              "  </thead>\n",
              "  <tbody>\n",
              "    <tr>\n",
              "      <th>0</th>\n",
              "      <td>00049ef3-c027-4f55-869c-46711f0ea0ad</td>\n",
              "      <td>24.0</td>\n",
              "    </tr>\n",
              "    <tr>\n",
              "      <th>1</th>\n",
              "      <td>00069dda-4175-4bb0-8ef0-c0e1031d4da6</td>\n",
              "      <td>24.0</td>\n",
              "    </tr>\n",
              "    <tr>\n",
              "      <th>2</th>\n",
              "      <td>0017c208-e016-4231-a022-598ba020f1ff</td>\n",
              "      <td>168.0</td>\n",
              "    </tr>\n",
              "    <tr>\n",
              "      <th>3</th>\n",
              "      <td>002222cf-9e4b-4432-9e36-ad500a753850</td>\n",
              "      <td>24.0</td>\n",
              "    </tr>\n",
              "    <tr>\n",
              "      <th>4</th>\n",
              "      <td>004dc60d-2288-453f-bcda-1ad5e8d8211f</td>\n",
              "      <td>25.0</td>\n",
              "    </tr>\n",
              "  </tbody>\n",
              "</table>\n",
              "</div>"
            ],
            "text/plain": [
              "                        source_event_id  tokens_length\n",
              "0  00049ef3-c027-4f55-869c-46711f0ea0ad           24.0\n",
              "1  00069dda-4175-4bb0-8ef0-c0e1031d4da6           24.0\n",
              "2  0017c208-e016-4231-a022-598ba020f1ff          168.0\n",
              "3  002222cf-9e4b-4432-9e36-ad500a753850           24.0\n",
              "4  004dc60d-2288-453f-bcda-1ad5e8d8211f           25.0"
            ]
          },
          "metadata": {
            "tags": []
          },
          "execution_count": 27
        }
      ]
    },
    {
      "cell_type": "code",
      "metadata": {
        "colab": {
          "base_uri": "https://localhost:8080/"
        },
        "id": "Md4hNTPYQERm",
        "outputId": "f2246149-5e53-4d7a-81e6-90fd9e63f700"
      },
      "source": [
        "print(query_results.shape)\n",
        "print(Data['source_event_id'].nunique())"
      ],
      "execution_count": null,
      "outputs": [
        {
          "output_type": "stream",
          "text": [
            "(9381, 2)\n",
            "14296\n"
          ],
          "name": "stdout"
        }
      ]
    },
    {
      "cell_type": "code",
      "metadata": {
        "colab": {
          "base_uri": "https://localhost:8080/"
        },
        "id": "aWpOWlSGBOvP",
        "outputId": "ef147519-42cf-4f4c-b646-eeed73f50cb6"
      },
      "source": [
        "query_results[query_results['tokens_length']<10].shape[0]"
      ],
      "execution_count": null,
      "outputs": [
        {
          "output_type": "execute_result",
          "data": {
            "text/plain": [
              "1138"
            ]
          },
          "metadata": {
            "tags": []
          },
          "execution_count": 29
        }
      ]
    },
    {
      "cell_type": "code",
      "metadata": {
        "colab": {
          "base_uri": "https://localhost:8080/"
        },
        "id": "7uCGzw0ryBUA",
        "outputId": "b1f25313-1646-4126-e05c-cb689487260c"
      },
      "source": [
        "#Unique_queries/load_page_post_queries\n",
        "(query_results[query_results['tokens_length']<10].shape[0]/query_results['source_event_id'].shape[0])*100"
      ],
      "execution_count": null,
      "outputs": [
        {
          "output_type": "execute_result",
          "data": {
            "text/plain": [
              "12.130902888817824"
            ]
          },
          "metadata": {
            "tags": []
          },
          "execution_count": 30
        }
      ]
    },
    {
      "cell_type": "code",
      "metadata": {
        "colab": {
          "base_uri": "https://localhost:8080/"
        },
        "id": "dG8JnYhlUl_B",
        "outputId": "27443341-196b-460e-be9a-2d1676cddaec"
      },
      "source": [
        "#Unique_queries/Total_unique_queries\n",
        "(query_results[query_results['tokens_length']<10].shape[0]/Data['source_event_id'].nunique())*100"
      ],
      "execution_count": null,
      "outputs": [
        {
          "output_type": "execute_result",
          "data": {
            "text/plain": [
              "7.960268606603246"
            ]
          },
          "metadata": {
            "tags": []
          },
          "execution_count": 31
        }
      ]
    },
    {
      "cell_type": "code",
      "metadata": {
        "colab": {
          "base_uri": "https://localhost:8080/",
          "height": 500
        },
        "id": "oYdlsCMpxlpG",
        "outputId": "2dee8077-bb30-4b16-d2c1-fd21aaf90a61"
      },
      "source": [
        "plt.figure(figsize = (25,8))\n",
        "plt.subplot(1, 4, 1)\n",
        "plt.title('loaded post of all queries', fontsize=15)\n",
        "query_results['tokens_length'].plot.hist(fontsize=10)\n",
        "plt.subplot(1, 4, 2)\n",
        "plt.title('lower than 20 loaded post', fontsize=15)\n",
        "query_results['tokens_length'][query_results['tokens_length']<20].plot.hist(fontsize=10)\n",
        "plt.subplot(1, 4, 3)\n",
        "plt.title('lower than 20 loaded post comulative', fontsize=15)\n",
        "query_results['tokens_length'][query_results['tokens_length']<20].plot.hist(cumulative=True,fontsize=10)\n",
        "plt.subplot(1, 4, 4)\n",
        "plt.yscale('log')\n",
        "plt.title('log of frequency of token_lenght', fontsize=15)\n",
        "query_results['tokens_length'].plot.hist( fontsize=10)\n",
        "plt.show()"
      ],
      "execution_count": null,
      "outputs": [
        {
          "output_type": "display_data",
          "data": {
            "image/png": "[encoded data removed]",
            "text/plain": [
              "<Figure size 1800x576 with 4 Axes>"
            ]
          },
          "metadata": {
            "tags": []
          }
        }
      ]
    },
    {
      "cell_type": "markdown",
      "metadata": {
        "id": "AEkvvMTI1hLl"
      },
      "source": [
        "#Query bounce rate"
      ]
    },
    {
      "cell_type": "markdown",
      "metadata": {
        "id": "pV_DrMaEbOE_"
      },
      "source": [
        "For this query first  we should calculate total clicks/ total data and then we should calculate dual of this metric so we minus calculated value from 1.\n",
        "Result is the ratio of not clicked queries / total clicked and not clicked queries."
      ]
    },
    {
      "cell_type": "code",
      "metadata": {
        "colab": {
          "base_uri": "https://localhost:8080/",
          "height": 204
        },
        "id": "90gB7iWF48eY",
        "outputId": "05fbe08c-63a7-4152-a989-f179c6e8b36e"
      },
      "source": [
        "#Unique Queries with action ='click_post'\n",
        "Clicked_queries=Data[Data['action']=='click_post'].groupby(\n",
        "    by=['source_event_id'])['post_token'].apply(list).reset_index()\n",
        "Clicked_queries.head()"
      ],
      "execution_count": null,
      "outputs": [
        {
          "output_type": "execute_result",
          "data": {
            "text/html": [
              "<div>\n",
              "<style scoped>\n",
              "    .dataframe tbody tr th:only-of-type {\n",
              "        vertical-align: middle;\n",
              "    }\n",
              "\n",
              "    .dataframe tbody tr th {\n",
              "        vertical-align: top;\n",
              "    }\n",
              "\n",
              "    .dataframe thead th {\n",
              "        text-align: right;\n",
              "    }\n",
              "</style>\n",
              "<table border=\"1\" class=\"dataframe\">\n",
              "  <thead>\n",
              "    <tr style=\"text-align: right;\">\n",
              "      <th></th>\n",
              "      <th>source_event_id</th>\n",
              "      <th>post_token</th>\n",
              "    </tr>\n",
              "  </thead>\n",
              "  <tbody>\n",
              "    <tr>\n",
              "      <th>0</th>\n",
              "      <td>00142c59-745c-4004-a955-698ddcf1faa6</td>\n",
              "      <td>[wXuDbcdY, wXn_gOQB, wX_mPSOb, wXbDYFRf]</td>\n",
              "    </tr>\n",
              "    <tr>\n",
              "      <th>1</th>\n",
              "      <td>0016f59f-9fb3-4ab5-ae78-9783314b81fc</td>\n",
              "      <td>[wXvfYPCE, wXvH4j2o, wXvHIUus, wXv3XPy_, wXvn3...</td>\n",
              "    </tr>\n",
              "    <tr>\n",
              "      <th>2</th>\n",
              "      <td>0017b9ef-5903-40f9-a219-85728eb78436</td>\n",
              "      <td>[wXvrEhKR, wXvnwYiP, wXvrEhKR, wXsDHFZ9, wXuf9...</td>\n",
              "    </tr>\n",
              "    <tr>\n",
              "      <th>3</th>\n",
              "      <td>0017c208-e016-4231-a022-598ba020f1ff</td>\n",
              "      <td>[wXj3iwnq, wXvXn34I, wXv_2DE5, wXorqAO7]</td>\n",
              "    </tr>\n",
              "    <tr>\n",
              "      <th>4</th>\n",
              "      <td>00240c5c-9d06-4fcd-93f5-93b842fdab63</td>\n",
              "      <td>[wXR7b2eM]</td>\n",
              "    </tr>\n",
              "  </tbody>\n",
              "</table>\n",
              "</div>"
            ],
            "text/plain": [
              "                        source_event_id                                         post_token\n",
              "0  00142c59-745c-4004-a955-698ddcf1faa6           [wXuDbcdY, wXn_gOQB, wX_mPSOb, wXbDYFRf]\n",
              "1  0016f59f-9fb3-4ab5-ae78-9783314b81fc  [wXvfYPCE, wXvH4j2o, wXvHIUus, wXv3XPy_, wXvn3...\n",
              "2  0017b9ef-5903-40f9-a219-85728eb78436  [wXvrEhKR, wXvnwYiP, wXvrEhKR, wXsDHFZ9, wXuf9...\n",
              "3  0017c208-e016-4231-a022-598ba020f1ff           [wXj3iwnq, wXvXn34I, wXv_2DE5, wXorqAO7]\n",
              "4  00240c5c-9d06-4fcd-93f5-93b842fdab63                                         [wXR7b2eM]"
            ]
          },
          "metadata": {
            "tags": []
          },
          "execution_count": 33
        }
      ]
    },
    {
      "cell_type": "code",
      "metadata": {
        "colab": {
          "base_uri": "https://localhost:8080/"
        },
        "id": "b3MIKJ7kIE4A",
        "outputId": "d3da82b0-d06e-4772-fd53-8de9d00e1d32"
      },
      "source": [
        "Clicked_queries['source_event_id'].value_counts().size"
      ],
      "execution_count": null,
      "outputs": [
        {
          "output_type": "execute_result",
          "data": {
            "text/plain": [
              "10820"
            ]
          },
          "metadata": {
            "tags": []
          },
          "execution_count": 34
        }
      ]
    },
    {
      "cell_type": "code",
      "metadata": {
        "colab": {
          "base_uri": "https://localhost:8080/"
        },
        "id": "BhfPxVVTIGp_",
        "outputId": "88a756e7-b180-4cdb-a150-2a82388a7bb0"
      },
      "source": [
        "Data['source_event_id'].nunique()"
      ],
      "execution_count": null,
      "outputs": [
        {
          "output_type": "execute_result",
          "data": {
            "text/plain": [
              "14296"
            ]
          },
          "metadata": {
            "tags": []
          },
          "execution_count": 35
        }
      ]
    },
    {
      "cell_type": "code",
      "metadata": {
        "colab": {
          "base_uri": "https://localhost:8080/"
        },
        "id": "EXmjQhMy4Mkw",
        "outputId": "7ad593ae-6542-45fc-8a77-4cbd50224436"
      },
      "source": [
        "100-(Clicked_queries['source_event_id'].value_counts().size / Data['source_event_id'].nunique())*100"
      ],
      "execution_count": null,
      "outputs": [
        {
          "output_type": "execute_result",
          "data": {
            "text/plain": [
              "24.314493564633466"
            ]
          },
          "metadata": {
            "tags": []
          },
          "execution_count": 36
        }
      ]
    },
    {
      "cell_type": "markdown",
      "metadata": {
        "id": "INfeMWgK7a7I"
      },
      "source": [
        "#Number of Click/Loaded for one query"
      ]
    },
    {
      "cell_type": "code",
      "metadata": {
        "colab": {
          "base_uri": "https://localhost:8080/",
          "height": 204
        },
        "id": "mUpa0iosRmre",
        "outputId": "4b206216-cddb-4168-f50d-d2a74148e3f6"
      },
      "source": [
        "#number of clicks\n",
        "click_ratio=Data.groupby(['source_event_id'])['post_token'].nunique().reset_index()\n",
        "click_ratio.head()"
      ],
      "execution_count": null,
      "outputs": [
        {
          "output_type": "execute_result",
          "data": {
            "text/html": [
              "<div>\n",
              "<style scoped>\n",
              "    .dataframe tbody tr th:only-of-type {\n",
              "        vertical-align: middle;\n",
              "    }\n",
              "\n",
              "    .dataframe tbody tr th {\n",
              "        vertical-align: top;\n",
              "    }\n",
              "\n",
              "    .dataframe thead th {\n",
              "        text-align: right;\n",
              "    }\n",
              "</style>\n",
              "<table border=\"1\" class=\"dataframe\">\n",
              "  <thead>\n",
              "    <tr style=\"text-align: right;\">\n",
              "      <th></th>\n",
              "      <th>source_event_id</th>\n",
              "      <th>post_token</th>\n",
              "    </tr>\n",
              "  </thead>\n",
              "  <tbody>\n",
              "    <tr>\n",
              "      <th>0</th>\n",
              "      <td>00049ef3-c027-4f55-869c-46711f0ea0ad</td>\n",
              "      <td>0</td>\n",
              "    </tr>\n",
              "    <tr>\n",
              "      <th>1</th>\n",
              "      <td>00069dda-4175-4bb0-8ef0-c0e1031d4da6</td>\n",
              "      <td>0</td>\n",
              "    </tr>\n",
              "    <tr>\n",
              "      <th>2</th>\n",
              "      <td>00142c59-745c-4004-a955-698ddcf1faa6</td>\n",
              "      <td>4</td>\n",
              "    </tr>\n",
              "    <tr>\n",
              "      <th>3</th>\n",
              "      <td>0016f59f-9fb3-4ab5-ae78-9783314b81fc</td>\n",
              "      <td>10</td>\n",
              "    </tr>\n",
              "    <tr>\n",
              "      <th>4</th>\n",
              "      <td>0017b9ef-5903-40f9-a219-85728eb78436</td>\n",
              "      <td>4</td>\n",
              "    </tr>\n",
              "  </tbody>\n",
              "</table>\n",
              "</div>"
            ],
            "text/plain": [
              "                        source_event_id  post_token\n",
              "0  00049ef3-c027-4f55-869c-46711f0ea0ad           0\n",
              "1  00069dda-4175-4bb0-8ef0-c0e1031d4da6           0\n",
              "2  00142c59-745c-4004-a955-698ddcf1faa6           4\n",
              "3  0016f59f-9fb3-4ab5-ae78-9783314b81fc          10\n",
              "4  0017b9ef-5903-40f9-a219-85728eb78436           4"
            ]
          },
          "metadata": {
            "tags": []
          },
          "execution_count": 37
        }
      ]
    },
    {
      "cell_type": "code",
      "metadata": {
        "colab": {
          "base_uri": "https://localhost:8080/",
          "height": 204
        },
        "id": "0uv49rteqORK",
        "outputId": "608bdaa1-2beb-449b-d543-00eb15081c6f"
      },
      "source": [
        "click_ratio.loc[:,'tokens_length']=Data.groupby('source_event_id')['tokens_length'].sum().reset_index()\n",
        "click_ratio.head()"
      ],
      "execution_count": null,
      "outputs": [
        {
          "output_type": "execute_result",
          "data": {
            "text/html": [
              "<div>\n",
              "<style scoped>\n",
              "    .dataframe tbody tr th:only-of-type {\n",
              "        vertical-align: middle;\n",
              "    }\n",
              "\n",
              "    .dataframe tbody tr th {\n",
              "        vertical-align: top;\n",
              "    }\n",
              "\n",
              "    .dataframe thead th {\n",
              "        text-align: right;\n",
              "    }\n",
              "</style>\n",
              "<table border=\"1\" class=\"dataframe\">\n",
              "  <thead>\n",
              "    <tr style=\"text-align: right;\">\n",
              "      <th></th>\n",
              "      <th>source_event_id</th>\n",
              "      <th>post_token</th>\n",
              "      <th>tokens_length</th>\n",
              "    </tr>\n",
              "  </thead>\n",
              "  <tbody>\n",
              "    <tr>\n",
              "      <th>0</th>\n",
              "      <td>00049ef3-c027-4f55-869c-46711f0ea0ad</td>\n",
              "      <td>0</td>\n",
              "      <td>24.0</td>\n",
              "    </tr>\n",
              "    <tr>\n",
              "      <th>1</th>\n",
              "      <td>00069dda-4175-4bb0-8ef0-c0e1031d4da6</td>\n",
              "      <td>0</td>\n",
              "      <td>24.0</td>\n",
              "    </tr>\n",
              "    <tr>\n",
              "      <th>2</th>\n",
              "      <td>00142c59-745c-4004-a955-698ddcf1faa6</td>\n",
              "      <td>4</td>\n",
              "      <td>0.0</td>\n",
              "    </tr>\n",
              "    <tr>\n",
              "      <th>3</th>\n",
              "      <td>0016f59f-9fb3-4ab5-ae78-9783314b81fc</td>\n",
              "      <td>10</td>\n",
              "      <td>0.0</td>\n",
              "    </tr>\n",
              "    <tr>\n",
              "      <th>4</th>\n",
              "      <td>0017b9ef-5903-40f9-a219-85728eb78436</td>\n",
              "      <td>4</td>\n",
              "      <td>0.0</td>\n",
              "    </tr>\n",
              "  </tbody>\n",
              "</table>\n",
              "</div>"
            ],
            "text/plain": [
              "                        source_event_id  post_token  tokens_length\n",
              "0  00049ef3-c027-4f55-869c-46711f0ea0ad           0           24.0\n",
              "1  00069dda-4175-4bb0-8ef0-c0e1031d4da6           0           24.0\n",
              "2  00142c59-745c-4004-a955-698ddcf1faa6           4            0.0\n",
              "3  0016f59f-9fb3-4ab5-ae78-9783314b81fc          10            0.0\n",
              "4  0017b9ef-5903-40f9-a219-85728eb78436           4            0.0"
            ]
          },
          "metadata": {
            "tags": []
          },
          "execution_count": 38
        }
      ]
    },
    {
      "cell_type": "code",
      "metadata": {
        "id": "TP74uu4zBJiW",
        "colab": {
          "base_uri": "https://localhost:8080/",
          "height": 204
        },
        "outputId": "cda70a6c-56b4-443e-e39f-a8f4344d3078"
      },
      "source": [
        "click_ratio.loc[:,'Unique_Click_Ratio']=click_ratio['post_token']/(click_ratio['tokens_length'])\n",
        "click_ratio.head()"
      ],
      "execution_count": null,
      "outputs": [
        {
          "output_type": "execute_result",
          "data": {
            "text/html": [
              "<div>\n",
              "<style scoped>\n",
              "    .dataframe tbody tr th:only-of-type {\n",
              "        vertical-align: middle;\n",
              "    }\n",
              "\n",
              "    .dataframe tbody tr th {\n",
              "        vertical-align: top;\n",
              "    }\n",
              "\n",
              "    .dataframe thead th {\n",
              "        text-align: right;\n",
              "    }\n",
              "</style>\n",
              "<table border=\"1\" class=\"dataframe\">\n",
              "  <thead>\n",
              "    <tr style=\"text-align: right;\">\n",
              "      <th></th>\n",
              "      <th>source_event_id</th>\n",
              "      <th>post_token</th>\n",
              "      <th>tokens_length</th>\n",
              "      <th>Unique_Click_Ratio</th>\n",
              "    </tr>\n",
              "  </thead>\n",
              "  <tbody>\n",
              "    <tr>\n",
              "      <th>0</th>\n",
              "      <td>00049ef3-c027-4f55-869c-46711f0ea0ad</td>\n",
              "      <td>0</td>\n",
              "      <td>24.0</td>\n",
              "      <td>0.0</td>\n",
              "    </tr>\n",
              "    <tr>\n",
              "      <th>1</th>\n",
              "      <td>00069dda-4175-4bb0-8ef0-c0e1031d4da6</td>\n",
              "      <td>0</td>\n",
              "      <td>24.0</td>\n",
              "      <td>0.0</td>\n",
              "    </tr>\n",
              "    <tr>\n",
              "      <th>2</th>\n",
              "      <td>00142c59-745c-4004-a955-698ddcf1faa6</td>\n",
              "      <td>4</td>\n",
              "      <td>0.0</td>\n",
              "      <td>inf</td>\n",
              "    </tr>\n",
              "    <tr>\n",
              "      <th>3</th>\n",
              "      <td>0016f59f-9fb3-4ab5-ae78-9783314b81fc</td>\n",
              "      <td>10</td>\n",
              "      <td>0.0</td>\n",
              "      <td>inf</td>\n",
              "    </tr>\n",
              "    <tr>\n",
              "      <th>4</th>\n",
              "      <td>0017b9ef-5903-40f9-a219-85728eb78436</td>\n",
              "      <td>4</td>\n",
              "      <td>0.0</td>\n",
              "      <td>inf</td>\n",
              "    </tr>\n",
              "  </tbody>\n",
              "</table>\n",
              "</div>"
            ],
            "text/plain": [
              "                        source_event_id  ...  Unique_Click_Ratio\n",
              "0  00049ef3-c027-4f55-869c-46711f0ea0ad  ...                 0.0\n",
              "1  00069dda-4175-4bb0-8ef0-c0e1031d4da6  ...                 0.0\n",
              "2  00142c59-745c-4004-a955-698ddcf1faa6  ...                 inf\n",
              "3  0016f59f-9fb3-4ab5-ae78-9783314b81fc  ...                 inf\n",
              "4  0017b9ef-5903-40f9-a219-85728eb78436  ...                 inf\n",
              "\n",
              "[5 rows x 4 columns]"
            ]
          },
          "metadata": {
            "tags": []
          },
          "execution_count": 39
        }
      ]
    },
    {
      "cell_type": "code",
      "metadata": {
        "id": "FObKfiyrP4Sr"
      },
      "source": [
        "click_ratio.replace([np.inf, -np.inf], np.nan, inplace=True)"
      ],
      "execution_count": null,
      "outputs": []
    },
    {
      "cell_type": "code",
      "metadata": {
        "colab": {
          "base_uri": "https://localhost:8080/",
          "height": 204
        },
        "id": "VxIjLRxw7Zt-",
        "outputId": "03f58ae2-e663-4966-c07f-04e0fec068f2"
      },
      "source": [
        "click_ratio.head()"
      ],
      "execution_count": null,
      "outputs": [
        {
          "output_type": "execute_result",
          "data": {
            "text/html": [
              "<div>\n",
              "<style scoped>\n",
              "    .dataframe tbody tr th:only-of-type {\n",
              "        vertical-align: middle;\n",
              "    }\n",
              "\n",
              "    .dataframe tbody tr th {\n",
              "        vertical-align: top;\n",
              "    }\n",
              "\n",
              "    .dataframe thead th {\n",
              "        text-align: right;\n",
              "    }\n",
              "</style>\n",
              "<table border=\"1\" class=\"dataframe\">\n",
              "  <thead>\n",
              "    <tr style=\"text-align: right;\">\n",
              "      <th></th>\n",
              "      <th>source_event_id</th>\n",
              "      <th>post_token</th>\n",
              "      <th>tokens_length</th>\n",
              "      <th>Unique_Click_Ratio</th>\n",
              "    </tr>\n",
              "  </thead>\n",
              "  <tbody>\n",
              "    <tr>\n",
              "      <th>0</th>\n",
              "      <td>00049ef3-c027-4f55-869c-46711f0ea0ad</td>\n",
              "      <td>0</td>\n",
              "      <td>24.0</td>\n",
              "      <td>0.0</td>\n",
              "    </tr>\n",
              "    <tr>\n",
              "      <th>1</th>\n",
              "      <td>00069dda-4175-4bb0-8ef0-c0e1031d4da6</td>\n",
              "      <td>0</td>\n",
              "      <td>24.0</td>\n",
              "      <td>0.0</td>\n",
              "    </tr>\n",
              "    <tr>\n",
              "      <th>2</th>\n",
              "      <td>00142c59-745c-4004-a955-698ddcf1faa6</td>\n",
              "      <td>4</td>\n",
              "      <td>0.0</td>\n",
              "      <td>NaN</td>\n",
              "    </tr>\n",
              "    <tr>\n",
              "      <th>3</th>\n",
              "      <td>0016f59f-9fb3-4ab5-ae78-9783314b81fc</td>\n",
              "      <td>10</td>\n",
              "      <td>0.0</td>\n",
              "      <td>NaN</td>\n",
              "    </tr>\n",
              "    <tr>\n",
              "      <th>4</th>\n",
              "      <td>0017b9ef-5903-40f9-a219-85728eb78436</td>\n",
              "      <td>4</td>\n",
              "      <td>0.0</td>\n",
              "      <td>NaN</td>\n",
              "    </tr>\n",
              "  </tbody>\n",
              "</table>\n",
              "</div>"
            ],
            "text/plain": [
              "                        source_event_id  ...  Unique_Click_Ratio\n",
              "0  00049ef3-c027-4f55-869c-46711f0ea0ad  ...                 0.0\n",
              "1  00069dda-4175-4bb0-8ef0-c0e1031d4da6  ...                 0.0\n",
              "2  00142c59-745c-4004-a955-698ddcf1faa6  ...                 NaN\n",
              "3  0016f59f-9fb3-4ab5-ae78-9783314b81fc  ...                 NaN\n",
              "4  0017b9ef-5903-40f9-a219-85728eb78436  ...                 NaN\n",
              "\n",
              "[5 rows x 4 columns]"
            ]
          },
          "metadata": {
            "tags": []
          },
          "execution_count": 41
        }
      ]
    },
    {
      "cell_type": "code",
      "metadata": {
        "id": "VpULLG5DQytg",
        "colab": {
          "base_uri": "https://localhost:8080/"
        },
        "outputId": "7c440d77-e92e-47cb-f410-952bc6e6793f"
      },
      "source": [
        "click_ratio['Unique_Click_Ratio']=click_ratio['Unique_Click_Ratio']*100\n",
        "click_ratio['Unique_Click_Ratio'].mean()"
      ],
      "execution_count": null,
      "outputs": [
        {
          "output_type": "execute_result",
          "data": {
            "text/plain": [
              "8.77932654764141"
            ]
          },
          "metadata": {
            "tags": []
          },
          "execution_count": 42
        }
      ]
    },
    {
      "cell_type": "code",
      "metadata": {
        "colab": {
          "base_uri": "https://localhost:8080/",
          "height": 408
        },
        "id": "dQHVmCRXb1bO",
        "outputId": "d1022154-a362-45c2-ed74-e1b27ff0e0a1"
      },
      "source": [
        "plt.figure(figsize=(8,6))\n",
        "corr = click_ratio.corr()\n",
        "sns.heatmap(corr,annot=True)"
      ],
      "execution_count": null,
      "outputs": [
        {
          "output_type": "execute_result",
          "data": {
            "text/plain": [
              "<matplotlib.axes._subplots.AxesSubplot at 0x7f324df81e50>"
            ]
          },
          "metadata": {
            "tags": []
          },
          "execution_count": 209
        },
        {
          "output_type": "display_data",
          "data": {
            "image/png": "[encoded data removed]",
            "text/plain": [
              "<Figure size 576x432 with 2 Axes>"
            ]
          },
          "metadata": {
            "tags": []
          }
        }
      ]
    },
    {
      "cell_type": "code",
      "metadata": {
        "colab": {
          "base_uri": "https://localhost:8080/",
          "height": 364
        },
        "id": "yc56L7JgdIwV",
        "outputId": "624de81e-02a4-4d99-c625-3c1a158aaf9d"
      },
      "source": [
        "plt.scatter(click_ratio['tokens_length'],click_ratio['post_token'])"
      ],
      "execution_count": null,
      "outputs": [
        {
          "output_type": "execute_result",
          "data": {
            "text/plain": [
              "<matplotlib.collections.PathCollection at 0x7f324deaba90>"
            ]
          },
          "metadata": {
            "tags": []
          },
          "execution_count": 210
        },
        {
          "output_type": "display_data",
          "data": {
            "image/png": "[encoded data removed]",
            "text/plain": [
              "<Figure size 576x396 with 1 Axes>"
            ]
          },
          "metadata": {
            "tags": []
          }
        }
      ]
    },
    {
      "cell_type": "code",
      "metadata": {
        "colab": {
          "base_uri": "https://localhost:8080/",
          "height": 504
        },
        "id": "sxvNW326EwtQ",
        "outputId": "58deaadf-ee35-4098-c506-6bb972f856aa"
      },
      "source": [
        "plt.figure(figsize = (25,8))\n",
        "plt.subplot(1, 3, 1)\n",
        "plt.yscale('log')\n",
        "plt.title('logaritmic frequency of number of loaded post', fontsize=20)\n",
        "click_ratio['tokens_length'].plot.hist()\n",
        "plt.subplot(1, 3, 2)\n",
        "plt.yscale('log')\n",
        "plt.title('logaritmic frequency of number of clicked post', fontsize=20)\n",
        "click_ratio['post_token'].plot.hist()\n",
        "plt.subplot(1, 3, 3)\n",
        "plt.yscale('log')\n",
        "plt.title('logaritmic frequency of ratio of clicked post/loaded post', fontsize=20)\n",
        "click_ratio['Unique_Click_Ratio'].plot.hist()\n",
        "plt.show()"
      ],
      "execution_count": null,
      "outputs": [
        {
          "output_type": "display_data",
          "data": {
            "image/png": "[encoded data removed]",
            "text/plain": [
              "<Figure size 1800x576 with 3 Axes>"
            ]
          },
          "metadata": {
            "tags": []
          }
        }
      ]
    },
    {
      "cell_type": "markdown",
      "metadata": {
        "id": "z2wUKh83SBi0"
      },
      "source": [
        "#Rank of first Click\n"
      ]
    },
    {
      "cell_type": "code",
      "metadata": {
        "id": "zUujvhd7Dgki"
      },
      "source": [
        "Ad_rank=Data.groupby('source_event_id')['post_index_in_post_list'].apply(\n",
        "    lambda x: list(x) if type(x)!=float else np.nan).reset_index()"
      ],
      "execution_count": null,
      "outputs": []
    },
    {
      "cell_type": "code",
      "metadata": {
        "id": "wPWpp31VdeLd"
      },
      "source": [
        "Ad_rank[\"post_index_in_post_list\"] = Ad_rank[\"post_index_in_post_list\"].apply(\n",
        "    lambda x: [i for i in x if str(i) != \"nan\"])"
      ],
      "execution_count": null,
      "outputs": []
    },
    {
      "cell_type": "code",
      "metadata": {
        "id": "9uiPB1q4sTfv"
      },
      "source": [
        "Ad_rank['post_index_in_post_list']=Ad_rank['post_index_in_post_list'].sort_values().apply(lambda x: sorted(x))\n",
        "Ad_rank.loc[:, 'first_click'] = Ad_rank['post_index_in_post_list'].map(lambda x: x[0] if len(x)!=0 else np.nan)"
      ],
      "execution_count": null,
      "outputs": []
    },
    {
      "cell_type": "code",
      "metadata": {
        "colab": {
          "base_uri": "https://localhost:8080/"
        },
        "id": "_HZoE9a-ska0",
        "outputId": "e2126ecb-730c-4e78-e495-f2ef42296b07"
      },
      "source": [
        "Ad_rank.head()"
      ],
      "execution_count": null,
      "outputs": [
        {
          "output_type": "execute_result",
          "data": {
            "text/html": [
              "<div>\n",
              "<style scoped>\n",
              "    .dataframe tbody tr th:only-of-type {\n",
              "        vertical-align: middle;\n",
              "    }\n",
              "\n",
              "    .dataframe tbody tr th {\n",
              "        vertical-align: top;\n",
              "    }\n",
              "\n",
              "    .dataframe thead th {\n",
              "        text-align: right;\n",
              "    }\n",
              "</style>\n",
              "<table border=\"1\" class=\"dataframe\">\n",
              "  <thead>\n",
              "    <tr style=\"text-align: right;\">\n",
              "      <th></th>\n",
              "      <th>source_event_id</th>\n",
              "      <th>post_index_in_post_list</th>\n",
              "      <th>first_click</th>\n",
              "    </tr>\n",
              "  </thead>\n",
              "  <tbody>\n",
              "    <tr>\n",
              "      <th>0</th>\n",
              "      <td>00049ef3-c027-4f55-869c-46711f0ea0ad</td>\n",
              "      <td>[]</td>\n",
              "      <td>NaN</td>\n",
              "    </tr>\n",
              "    <tr>\n",
              "      <th>1</th>\n",
              "      <td>00069dda-4175-4bb0-8ef0-c0e1031d4da6</td>\n",
              "      <td>[]</td>\n",
              "      <td>NaN</td>\n",
              "    </tr>\n",
              "    <tr>\n",
              "      <th>2</th>\n",
              "      <td>00142c59-745c-4004-a955-698ddcf1faa6</td>\n",
              "      <td>[7.0, 17.0, 82.0, 181.0]</td>\n",
              "      <td>7.0</td>\n",
              "    </tr>\n",
              "    <tr>\n",
              "      <th>3</th>\n",
              "      <td>0016f59f-9fb3-4ab5-ae78-9783314b81fc</td>\n",
              "      <td>[2.0, 3.0, 4.0, 5.0, 7.0, 10.0, 11.0, 12.0, 20...</td>\n",
              "      <td>2.0</td>\n",
              "    </tr>\n",
              "    <tr>\n",
              "      <th>4</th>\n",
              "      <td>0017b9ef-5903-40f9-a219-85728eb78436</td>\n",
              "      <td>[5.0, 5.0, 10.0, 11.0, 19.0]</td>\n",
              "      <td>5.0</td>\n",
              "    </tr>\n",
              "  </tbody>\n",
              "</table>\n",
              "</div>"
            ],
            "text/plain": [
              "                        source_event_id  ... first_click\n",
              "0  00049ef3-c027-4f55-869c-46711f0ea0ad  ...         NaN\n",
              "1  00069dda-4175-4bb0-8ef0-c0e1031d4da6  ...         NaN\n",
              "2  00142c59-745c-4004-a955-698ddcf1faa6  ...         7.0\n",
              "3  0016f59f-9fb3-4ab5-ae78-9783314b81fc  ...         2.0\n",
              "4  0017b9ef-5903-40f9-a219-85728eb78436  ...         5.0\n",
              "\n",
              "[5 rows x 3 columns]"
            ]
          },
          "metadata": {
            "tags": []
          },
          "execution_count": 56
        }
      ]
    },
    {
      "cell_type": "code",
      "metadata": {
        "colab": {
          "base_uri": "https://localhost:8080/"
        },
        "id": "DVOgrxjuK5Gc",
        "outputId": "8350d2e5-4e3b-4fbf-bb2f-6507f1f1f67a"
      },
      "source": [
        "Ad_rank.describe()"
      ],
      "execution_count": null,
      "outputs": [
        {
          "output_type": "execute_result",
          "data": {
            "text/html": [
              "<div>\n",
              "<style scoped>\n",
              "    .dataframe tbody tr th:only-of-type {\n",
              "        vertical-align: middle;\n",
              "    }\n",
              "\n",
              "    .dataframe tbody tr th {\n",
              "        vertical-align: top;\n",
              "    }\n",
              "\n",
              "    .dataframe thead th {\n",
              "        text-align: right;\n",
              "    }\n",
              "</style>\n",
              "<table border=\"1\" class=\"dataframe\">\n",
              "  <thead>\n",
              "    <tr style=\"text-align: right;\">\n",
              "      <th></th>\n",
              "      <th>first_click</th>\n",
              "    </tr>\n",
              "  </thead>\n",
              "  <tbody>\n",
              "    <tr>\n",
              "      <th>count</th>\n",
              "      <td>10820.000000</td>\n",
              "    </tr>\n",
              "    <tr>\n",
              "      <th>mean</th>\n",
              "      <td>25.201571</td>\n",
              "    </tr>\n",
              "    <tr>\n",
              "      <th>std</th>\n",
              "      <td>105.121353</td>\n",
              "    </tr>\n",
              "    <tr>\n",
              "      <th>min</th>\n",
              "      <td>1.000000</td>\n",
              "    </tr>\n",
              "    <tr>\n",
              "      <th>25%</th>\n",
              "      <td>2.000000</td>\n",
              "    </tr>\n",
              "    <tr>\n",
              "      <th>50%</th>\n",
              "      <td>4.000000</td>\n",
              "    </tr>\n",
              "    <tr>\n",
              "      <th>75%</th>\n",
              "      <td>13.000000</td>\n",
              "    </tr>\n",
              "    <tr>\n",
              "      <th>max</th>\n",
              "      <td>3510.000000</td>\n",
              "    </tr>\n",
              "  </tbody>\n",
              "</table>\n",
              "</div>"
            ],
            "text/plain": [
              "        first_click\n",
              "count  10820.000000\n",
              "mean      25.201571\n",
              "std      105.121353\n",
              "min        1.000000\n",
              "25%        2.000000\n",
              "50%        4.000000\n",
              "75%       13.000000\n",
              "max     3510.000000"
            ]
          },
          "metadata": {
            "tags": []
          },
          "execution_count": 57
        }
      ]
    },
    {
      "cell_type": "code",
      "metadata": {
        "colab": {
          "base_uri": "https://localhost:8080/"
        },
        "id": "HeW-gYgXtPcr",
        "outputId": "3eb27a0f-5a41-4ea9-e92d-392ca4a058f5"
      },
      "source": [
        "Ad_rank[Ad_rank['first_click']<25]['first_click'].plot.hist()"
      ],
      "execution_count": null,
      "outputs": [
        {
          "output_type": "execute_result",
          "data": {
            "text/plain": [
              "<matplotlib.axes._subplots.AxesSubplot at 0x7f325fb502d0>"
            ]
          },
          "metadata": {
            "tags": []
          },
          "execution_count": 58
        },
        {
          "output_type": "display_data",
          "data": {
            "image/png": "[encoded data removed]",
            "text/plain": [
              "<Figure size 576x396 with 1 Axes>"
            ]
          },
          "metadata": {
            "tags": []
          }
        }
      ]
    },
    {
      "cell_type": "code",
      "metadata": {
        "colab": {
          "base_uri": "https://localhost:8080/"
        },
        "id": "TpFdteZ26w20",
        "outputId": "3ef12a8c-d821-4edd-f2ae-07ff81f4711b"
      },
      "source": [
        "Ad_rank['first_click'].mean()"
      ],
      "execution_count": null,
      "outputs": [
        {
          "output_type": "execute_result",
          "data": {
            "text/plain": [
              "25.201571164510167"
            ]
          },
          "metadata": {
            "tags": []
          },
          "execution_count": 59
        }
      ]
    },
    {
      "cell_type": "markdown",
      "metadata": {
        "id": "x8AlkPcsD4y6"
      },
      "source": [
        "#Avg of click distances/first 3 clicked?\n"
      ]
    },
    {
      "cell_type": "code",
      "metadata": {
        "id": "2T67tgwuDrL0"
      },
      "source": [
        "Ad_rank['post_index_in_post_list']=Ad_rank['post_index_in_post_list'].apply(sorted)"
      ],
      "execution_count": null,
      "outputs": []
    },
    {
      "cell_type": "code",
      "metadata": {
        "colab": {
          "base_uri": "https://localhost:8080/"
        },
        "id": "7V2Yo86UI6E2",
        "outputId": "9bd1d09e-ec5b-4808-d875-630e62c312cf"
      },
      "source": [
        "Ad_rank.head()"
      ],
      "execution_count": null,
      "outputs": [
        {
          "output_type": "execute_result",
          "data": {
            "text/html": [
              "<div>\n",
              "<style scoped>\n",
              "    .dataframe tbody tr th:only-of-type {\n",
              "        vertical-align: middle;\n",
              "    }\n",
              "\n",
              "    .dataframe tbody tr th {\n",
              "        vertical-align: top;\n",
              "    }\n",
              "\n",
              "    .dataframe thead th {\n",
              "        text-align: right;\n",
              "    }\n",
              "</style>\n",
              "<table border=\"1\" class=\"dataframe\">\n",
              "  <thead>\n",
              "    <tr style=\"text-align: right;\">\n",
              "      <th></th>\n",
              "      <th>source_event_id</th>\n",
              "      <th>post_index_in_post_list</th>\n",
              "      <th>first_click</th>\n",
              "    </tr>\n",
              "  </thead>\n",
              "  <tbody>\n",
              "    <tr>\n",
              "      <th>0</th>\n",
              "      <td>00049ef3-c027-4f55-869c-46711f0ea0ad</td>\n",
              "      <td>[]</td>\n",
              "      <td>NaN</td>\n",
              "    </tr>\n",
              "    <tr>\n",
              "      <th>1</th>\n",
              "      <td>00069dda-4175-4bb0-8ef0-c0e1031d4da6</td>\n",
              "      <td>[]</td>\n",
              "      <td>NaN</td>\n",
              "    </tr>\n",
              "    <tr>\n",
              "      <th>2</th>\n",
              "      <td>00142c59-745c-4004-a955-698ddcf1faa6</td>\n",
              "      <td>[7.0, 17.0, 82.0, 181.0]</td>\n",
              "      <td>7.0</td>\n",
              "    </tr>\n",
              "    <tr>\n",
              "      <th>3</th>\n",
              "      <td>0016f59f-9fb3-4ab5-ae78-9783314b81fc</td>\n",
              "      <td>[2.0, 3.0, 4.0, 5.0, 7.0, 10.0, 11.0, 12.0, 20...</td>\n",
              "      <td>2.0</td>\n",
              "    </tr>\n",
              "    <tr>\n",
              "      <th>4</th>\n",
              "      <td>0017b9ef-5903-40f9-a219-85728eb78436</td>\n",
              "      <td>[5.0, 5.0, 10.0, 11.0, 19.0]</td>\n",
              "      <td>5.0</td>\n",
              "    </tr>\n",
              "  </tbody>\n",
              "</table>\n",
              "</div>"
            ],
            "text/plain": [
              "                        source_event_id  ... first_click\n",
              "0  00049ef3-c027-4f55-869c-46711f0ea0ad  ...         NaN\n",
              "1  00069dda-4175-4bb0-8ef0-c0e1031d4da6  ...         NaN\n",
              "2  00142c59-745c-4004-a955-698ddcf1faa6  ...         7.0\n",
              "3  0016f59f-9fb3-4ab5-ae78-9783314b81fc  ...         2.0\n",
              "4  0017b9ef-5903-40f9-a219-85728eb78436  ...         5.0\n",
              "\n",
              "[5 rows x 3 columns]"
            ]
          },
          "metadata": {
            "tags": []
          },
          "execution_count": 76
        }
      ]
    },
    {
      "cell_type": "code",
      "metadata": {
        "id": "rsUKXzDQXSnU"
      },
      "source": [
        "Ad_rank.loc[:, 'click_dist_avg']= Ad_rank['post_index_in_post_list'].map(\n",
        "    lambda x: (x[-1]-x[0])/len(x) if (len(x)!=0 and len(set(x))>1) else \n",
        "    0 if len(set(x))==1 else np.nan)"
      ],
      "execution_count": null,
      "outputs": []
    },
    {
      "cell_type": "code",
      "metadata": {
        "colab": {
          "base_uri": "https://localhost:8080/"
        },
        "id": "wTaA28iwZ5cL",
        "outputId": "a8af9ee4-40c8-40b3-c5c0-0687c8379020"
      },
      "source": [
        "Ad_rank.click_dist_avg.mean()"
      ],
      "execution_count": null,
      "outputs": [
        {
          "output_type": "execute_result",
          "data": {
            "text/plain": [
              "6.874658894127465"
            ]
          },
          "metadata": {
            "tags": []
          },
          "execution_count": 78
        }
      ]
    },
    {
      "cell_type": "code",
      "metadata": {
        "colab": {
          "base_uri": "https://localhost:8080/"
        },
        "id": "7aSCXmav1jxQ",
        "outputId": "776b4516-6629-4159-c017-83d471025864"
      },
      "source": [
        "plt.figure(figsize = (20,8))\n",
        "plt.subplot(1, 2, 1)\n",
        "plt.title('Distance with lower than 20')\n",
        "Ad_rank['click_dist_avg'][Ad_rank['click_dist_avg']<20].plot.hist()\n",
        "plt.subplot(1, 2, 2)\n",
        "plt.title('log of distances')\n",
        "plt.yscale('log')\n",
        "Ad_rank['click_dist_avg'].plot.hist()\n",
        "plt.show()"
      ],
      "execution_count": null,
      "outputs": [
        {
          "output_type": "display_data",
          "data": {
            "image/png": "[encoded data removed]",
            "text/plain": [
              "<Figure size 1440x576 with 2 Axes>"
            ]
          },
          "metadata": {
            "tags": []
          }
        }
      ]
    },
    {
      "cell_type": "code",
      "metadata": {
        "id": "DpTVM_eqj2Km"
      },
      "source": [
        "Ad_rank.loc[:, 'clicked_first_3']= Ad_rank['post_index_in_post_list'].map(\n",
        "    lambda x: True if (x.count(1)>0 or x.count(2)>0 or\n",
        "                         x.count(3)>0  ) else False)"
      ],
      "execution_count": null,
      "outputs": []
    },
    {
      "cell_type": "code",
      "metadata": {
        "colab": {
          "base_uri": "https://localhost:8080/"
        },
        "id": "CrDflm3XsIGJ",
        "outputId": "cc5b819f-98e6-4b66-fd6c-42e48db33f3a"
      },
      "source": [
        "Ad_rank.head()"
      ],
      "execution_count": null,
      "outputs": [
        {
          "output_type": "execute_result",
          "data": {
            "text/html": [
              "<div>\n",
              "<style scoped>\n",
              "    .dataframe tbody tr th:only-of-type {\n",
              "        vertical-align: middle;\n",
              "    }\n",
              "\n",
              "    .dataframe tbody tr th {\n",
              "        vertical-align: top;\n",
              "    }\n",
              "\n",
              "    .dataframe thead th {\n",
              "        text-align: right;\n",
              "    }\n",
              "</style>\n",
              "<table border=\"1\" class=\"dataframe\">\n",
              "  <thead>\n",
              "    <tr style=\"text-align: right;\">\n",
              "      <th></th>\n",
              "      <th>source_event_id</th>\n",
              "      <th>post_index_in_post_list</th>\n",
              "      <th>first_click</th>\n",
              "      <th>click_dist_avg</th>\n",
              "      <th>clicked_first_3</th>\n",
              "    </tr>\n",
              "  </thead>\n",
              "  <tbody>\n",
              "    <tr>\n",
              "      <th>0</th>\n",
              "      <td>00049ef3-c027-4f55-869c-46711f0ea0ad</td>\n",
              "      <td>[]</td>\n",
              "      <td>NaN</td>\n",
              "      <td>NaN</td>\n",
              "      <td>False</td>\n",
              "    </tr>\n",
              "    <tr>\n",
              "      <th>1</th>\n",
              "      <td>00069dda-4175-4bb0-8ef0-c0e1031d4da6</td>\n",
              "      <td>[]</td>\n",
              "      <td>NaN</td>\n",
              "      <td>NaN</td>\n",
              "      <td>False</td>\n",
              "    </tr>\n",
              "    <tr>\n",
              "      <th>2</th>\n",
              "      <td>00142c59-745c-4004-a955-698ddcf1faa6</td>\n",
              "      <td>[7.0, 17.0, 82.0, 181.0]</td>\n",
              "      <td>7.0</td>\n",
              "      <td>43.5</td>\n",
              "      <td>False</td>\n",
              "    </tr>\n",
              "    <tr>\n",
              "      <th>3</th>\n",
              "      <td>0016f59f-9fb3-4ab5-ae78-9783314b81fc</td>\n",
              "      <td>[2.0, 3.0, 4.0, 5.0, 7.0, 10.0, 11.0, 12.0, 20...</td>\n",
              "      <td>2.0</td>\n",
              "      <td>2.1</td>\n",
              "      <td>True</td>\n",
              "    </tr>\n",
              "    <tr>\n",
              "      <th>4</th>\n",
              "      <td>0017b9ef-5903-40f9-a219-85728eb78436</td>\n",
              "      <td>[5.0, 5.0, 10.0, 11.0, 19.0]</td>\n",
              "      <td>5.0</td>\n",
              "      <td>2.8</td>\n",
              "      <td>False</td>\n",
              "    </tr>\n",
              "  </tbody>\n",
              "</table>\n",
              "</div>"
            ],
            "text/plain": [
              "                        source_event_id  ... clicked_first_3\n",
              "0  00049ef3-c027-4f55-869c-46711f0ea0ad  ...           False\n",
              "1  00069dda-4175-4bb0-8ef0-c0e1031d4da6  ...           False\n",
              "2  00142c59-745c-4004-a955-698ddcf1faa6  ...           False\n",
              "3  0016f59f-9fb3-4ab5-ae78-9783314b81fc  ...            True\n",
              "4  0017b9ef-5903-40f9-a219-85728eb78436  ...           False\n",
              "\n",
              "[5 rows x 5 columns]"
            ]
          },
          "metadata": {
            "tags": []
          },
          "execution_count": 81
        }
      ]
    },
    {
      "cell_type": "code",
      "metadata": {
        "colab": {
          "base_uri": "https://localhost:8080/"
        },
        "id": "25_Ev_zm6vPv",
        "outputId": "280c46d6-ef06-4c5f-d73b-ed7ad5b9efa0"
      },
      "source": [
        "Ad_rank.shape"
      ],
      "execution_count": null,
      "outputs": [
        {
          "output_type": "execute_result",
          "data": {
            "text/plain": [
              "(14296, 5)"
            ]
          },
          "metadata": {
            "tags": []
          },
          "execution_count": 187
        }
      ]
    },
    {
      "cell_type": "code",
      "metadata": {
        "colab": {
          "base_uri": "https://localhost:8080/"
        },
        "id": "1f6N76dsPdKv",
        "outputId": "00c920de-2034-4ffe-f8ed-0080c67798f6"
      },
      "source": [
        "clicked=[Ad_rank.clicked_first_3.sum(),Ad_rank.shape[0]-Ad_rank.clicked_first_3.sum()]\n",
        "names=['True','False']\n",
        "plt.hist(names,weights=clicked)"
      ],
      "execution_count": null,
      "outputs": [
        {
          "output_type": "execute_result",
          "data": {
            "text/plain": [
              "(array([5062.,    0.,    0.,    0.,    0.,    0.,    0.,    0.,    0.,\n",
              "        9234.]),\n",
              " array([0. , 0.1, 0.2, 0.3, 0.4, 0.5, 0.6, 0.7, 0.8, 0.9, 1. ]),\n",
              " <a list of 10 Patch objects>)"
            ]
          },
          "metadata": {
            "tags": []
          },
          "execution_count": 188
        },
        {
          "output_type": "display_data",
          "data": {
            "image/png": "[encoded data removed]",
            "text/plain": [
              "<Figure size 576x396 with 1 Axes>"
            ]
          },
          "metadata": {
            "tags": []
          }
        }
      ]
    },
    {
      "cell_type": "code",
      "metadata": {
        "colab": {
          "base_uri": "https://localhost:8080/"
        },
        "id": "dygNKSwL8QFJ",
        "outputId": "5c7d0c98-b11b-49e5-f58e-969a07fcce83"
      },
      "source": [
        "Ad_rank['clicked_first_3'].mean()*100"
      ],
      "execution_count": null,
      "outputs": [
        {
          "output_type": "execute_result",
          "data": {
            "text/plain": [
              "35.40850587576945"
            ]
          },
          "metadata": {
            "tags": []
          },
          "execution_count": 83
        }
      ]
    },
    {
      "cell_type": "markdown",
      "metadata": {
        "id": "f7iMlxEBCDyJ"
      },
      "source": [
        "#Compare Metrics"
      ]
    },
    {
      "cell_type": "code",
      "metadata": {
        "colab": {
          "base_uri": "https://localhost:8080/",
          "height": 297
        },
        "id": "Nux5cc1oBouE",
        "outputId": "b4e1cdda-2e80-4689-e025-af020979cc06"
      },
      "source": [
        "Ad_rank.describe()"
      ],
      "execution_count": null,
      "outputs": [
        {
          "output_type": "execute_result",
          "data": {
            "text/html": [
              "<div>\n",
              "<style scoped>\n",
              "    .dataframe tbody tr th:only-of-type {\n",
              "        vertical-align: middle;\n",
              "    }\n",
              "\n",
              "    .dataframe tbody tr th {\n",
              "        vertical-align: top;\n",
              "    }\n",
              "\n",
              "    .dataframe thead th {\n",
              "        text-align: right;\n",
              "    }\n",
              "</style>\n",
              "<table border=\"1\" class=\"dataframe\">\n",
              "  <thead>\n",
              "    <tr style=\"text-align: right;\">\n",
              "      <th></th>\n",
              "      <th>first_click</th>\n",
              "      <th>click_dist_avg</th>\n",
              "    </tr>\n",
              "  </thead>\n",
              "  <tbody>\n",
              "    <tr>\n",
              "      <th>count</th>\n",
              "      <td>10820.000000</td>\n",
              "      <td>10820.000000</td>\n",
              "    </tr>\n",
              "    <tr>\n",
              "      <th>mean</th>\n",
              "      <td>25.201571</td>\n",
              "      <td>6.874659</td>\n",
              "    </tr>\n",
              "    <tr>\n",
              "      <th>std</th>\n",
              "      <td>105.121353</td>\n",
              "      <td>13.201312</td>\n",
              "    </tr>\n",
              "    <tr>\n",
              "      <th>min</th>\n",
              "      <td>1.000000</td>\n",
              "      <td>0.000000</td>\n",
              "    </tr>\n",
              "    <tr>\n",
              "      <th>25%</th>\n",
              "      <td>2.000000</td>\n",
              "      <td>0.500000</td>\n",
              "    </tr>\n",
              "    <tr>\n",
              "      <th>50%</th>\n",
              "      <td>4.000000</td>\n",
              "      <td>3.000000</td>\n",
              "    </tr>\n",
              "    <tr>\n",
              "      <th>75%</th>\n",
              "      <td>13.000000</td>\n",
              "      <td>8.064732</td>\n",
              "    </tr>\n",
              "    <tr>\n",
              "      <th>max</th>\n",
              "      <td>3510.000000</td>\n",
              "      <td>487.000000</td>\n",
              "    </tr>\n",
              "  </tbody>\n",
              "</table>\n",
              "</div>"
            ],
            "text/plain": [
              "        first_click  click_dist_avg\n",
              "count  10820.000000    10820.000000\n",
              "mean      25.201571        6.874659\n",
              "std      105.121353       13.201312\n",
              "min        1.000000        0.000000\n",
              "25%        2.000000        0.500000\n",
              "50%        4.000000        3.000000\n",
              "75%       13.000000        8.064732\n",
              "max     3510.000000      487.000000"
            ]
          },
          "metadata": {
            "tags": []
          },
          "execution_count": 85
        }
      ]
    },
    {
      "cell_type": "code",
      "metadata": {
        "colab": {
          "base_uri": "https://localhost:8080/",
          "height": 297
        },
        "id": "iRFmwodzB8-K",
        "outputId": "0e8c9d6e-4546-4732-8a5d-a82b615012d3"
      },
      "source": [
        "click_ratio.describe()"
      ],
      "execution_count": null,
      "outputs": [
        {
          "output_type": "execute_result",
          "data": {
            "text/html": [
              "<div>\n",
              "<style scoped>\n",
              "    .dataframe tbody tr th:only-of-type {\n",
              "        vertical-align: middle;\n",
              "    }\n",
              "\n",
              "    .dataframe tbody tr th {\n",
              "        vertical-align: top;\n",
              "    }\n",
              "\n",
              "    .dataframe thead th {\n",
              "        text-align: right;\n",
              "    }\n",
              "</style>\n",
              "<table border=\"1\" class=\"dataframe\">\n",
              "  <thead>\n",
              "    <tr style=\"text-align: right;\">\n",
              "      <th></th>\n",
              "      <th>post_token</th>\n",
              "      <th>tokens_length</th>\n",
              "      <th>Unique_Click_Ratio</th>\n",
              "    </tr>\n",
              "  </thead>\n",
              "  <tbody>\n",
              "    <tr>\n",
              "      <th>count</th>\n",
              "      <td>14296.000000</td>\n",
              "      <td>14296.000000</td>\n",
              "      <td>9381.000000</td>\n",
              "    </tr>\n",
              "    <tr>\n",
              "      <th>mean</th>\n",
              "      <td>5.026161</td>\n",
              "      <td>56.213556</td>\n",
              "      <td>8.779327</td>\n",
              "    </tr>\n",
              "    <tr>\n",
              "      <th>std</th>\n",
              "      <td>8.732287</td>\n",
              "      <td>132.665078</td>\n",
              "      <td>17.584805</td>\n",
              "    </tr>\n",
              "    <tr>\n",
              "      <th>min</th>\n",
              "      <td>0.000000</td>\n",
              "      <td>0.000000</td>\n",
              "      <td>0.000000</td>\n",
              "    </tr>\n",
              "    <tr>\n",
              "      <th>25%</th>\n",
              "      <td>1.000000</td>\n",
              "      <td>0.000000</td>\n",
              "      <td>0.000000</td>\n",
              "    </tr>\n",
              "    <tr>\n",
              "      <th>50%</th>\n",
              "      <td>2.000000</td>\n",
              "      <td>24.000000</td>\n",
              "      <td>2.884615</td>\n",
              "    </tr>\n",
              "    <tr>\n",
              "      <th>75%</th>\n",
              "      <td>6.000000</td>\n",
              "      <td>48.000000</td>\n",
              "      <td>8.823529</td>\n",
              "    </tr>\n",
              "    <tr>\n",
              "      <th>max</th>\n",
              "      <td>173.000000</td>\n",
              "      <td>2376.000000</td>\n",
              "      <td>325.000000</td>\n",
              "    </tr>\n",
              "  </tbody>\n",
              "</table>\n",
              "</div>"
            ],
            "text/plain": [
              "         post_token  tokens_length  Unique_Click_Ratio\n",
              "count  14296.000000   14296.000000         9381.000000\n",
              "mean       5.026161      56.213556            8.779327\n",
              "std        8.732287     132.665078           17.584805\n",
              "min        0.000000       0.000000            0.000000\n",
              "25%        1.000000       0.000000            0.000000\n",
              "50%        2.000000      24.000000            2.884615\n",
              "75%        6.000000      48.000000            8.823529\n",
              "max      173.000000    2376.000000          325.000000"
            ]
          },
          "metadata": {
            "tags": []
          },
          "execution_count": 86
        }
      ]
    },
    {
      "cell_type": "markdown",
      "metadata": {
        "id": "gkoQeUISmn3h"
      },
      "source": [
        "#Probability"
      ]
    },
    {
      "cell_type": "markdown",
      "metadata": {
        "id": "w_lOtqIVZIFK"
      },
      "source": [
        "##First Metric:"
      ]
    },
    {
      "cell_type": "code",
      "metadata": {
        "id": "6lRI42tgWnpd"
      },
      "source": [
        "p=click_ratio['Unique_Click_Ratio'].mean()/100"
      ],
      "execution_count": null,
      "outputs": []
    },
    {
      "cell_type": "code",
      "metadata": {
        "colab": {
          "base_uri": "https://localhost:8080/"
        },
        "id": "gfutmutbYiJS",
        "outputId": "e552abda-7cff-45f9-b53e-ed4c53efd6f3"
      },
      "source": [
        "p"
      ],
      "execution_count": null,
      "outputs": [
        {
          "output_type": "execute_result",
          "data": {
            "text/plain": [
              "0.08779326547641411"
            ]
          },
          "metadata": {
            "tags": []
          },
          "execution_count": 88
        }
      ]
    },
    {
      "cell_type": "markdown",
      "metadata": {
        "id": "0T9rbWjrZPQB"
      },
      "source": [
        "##Second Metric:"
      ]
    },
    {
      "cell_type": "code",
      "metadata": {
        "id": "IOtdxp2xXtRT"
      },
      "source": [
        "Geometric=[]\n"
      ],
      "execution_count": null,
      "outputs": []
    },
    {
      "cell_type": "code",
      "metadata": {
        "id": "lAkBkNovXb2b"
      },
      "source": [
        "for i in range(1,int(Data['post_index_in_post_list'].max())):\n",
        "  Geometric.insert(i-1,((1-p)**(i-1))*p)"
      ],
      "execution_count": null,
      "outputs": []
    },
    {
      "cell_type": "code",
      "metadata": {
        "colab": {
          "base_uri": "https://localhost:8080/"
        },
        "id": "eAQFvVZkYGx7",
        "outputId": "5f60bcba-0348-425a-cb2f-5e694efc58bf"
      },
      "source": [
        "\n",
        "plt.figure(figsize = (15,4))\n",
        "plt.subplot(1, 2, 1)\n",
        "plt.title('Geometric Distribution first 200 elements', fontsize=20)\n",
        "plt.plot(Geometric[1:200])\n",
        "plt.subplot(1, 2, 2)\n",
        "plt.title('Geometric Distribution', fontsize=20)\n",
        "plt.plot(Geometric)"
      ],
      "execution_count": null,
      "outputs": [
        {
          "output_type": "execute_result",
          "data": {
            "text/plain": [
              "[<matplotlib.lines.Line2D at 0x7f325db29a10>]"
            ]
          },
          "metadata": {
            "tags": []
          },
          "execution_count": 91
        },
        {
          "output_type": "display_data",
          "data": {
            "image/png": "[encoded data removed]",
            "text/plain": [
              "<Figure size 1080x288 with 2 Axes>"
            ]
          },
          "metadata": {
            "tags": []
          }
        }
      ]
    },
    {
      "cell_type": "markdown",
      "metadata": {
        "id": "ragMSD8xdorH"
      },
      "source": [
        "##Third Metric"
      ]
    },
    {
      "cell_type": "code",
      "metadata": {
        "colab": {
          "base_uri": "https://localhost:8080/"
        },
        "id": "zBFMkbCCdsU2",
        "outputId": "b2f03604-08f5-4529-b59c-59ac46683c99"
      },
      "source": [
        "1/p"
      ],
      "execution_count": null,
      "outputs": [
        {
          "output_type": "execute_result",
          "data": {
            "text/plain": [
              "11.390395317607279"
            ]
          },
          "metadata": {
            "tags": []
          },
          "execution_count": 92
        }
      ]
    },
    {
      "cell_type": "markdown",
      "metadata": {
        "id": "A5hJyRKfWU3I"
      },
      "source": [
        "##Fourth Metric"
      ]
    },
    {
      "cell_type": "code",
      "metadata": {
        "id": "8MSX_8PsWUnB"
      },
      "source": [
        "Geo_CDF=[]\n",
        "for i in range(1,int(Data['post_index_in_post_list'].max())):\n",
        "  Geo_CDF.insert(i-1,1-(1 - p)**(i-1) )"
      ],
      "execution_count": null,
      "outputs": []
    },
    {
      "cell_type": "code",
      "metadata": {
        "colab": {
          "base_uri": "https://localhost:8080/",
          "height": 303
        },
        "id": "uT4fvj3xXAH5",
        "outputId": "8c240a50-913b-4b53-80a9-20fd1bc72963"
      },
      "source": [
        "plt.figure(figsize = (15,4))\n",
        "plt.subplot(1, 2, 1)\n",
        "plt.title('Comulative Geometric Distribution first 30 elements', fontsize=20)\n",
        "plt.plot(Geo_CDF[1:30])\n",
        "plt.subplot(1, 2, 2)\n",
        "plt.title('Comulative Geometric Distribution', fontsize=20)\n",
        "plt.plot(Geo_CDF)"
      ],
      "execution_count": null,
      "outputs": [
        {
          "output_type": "execute_result",
          "data": {
            "text/plain": [
              "[<matplotlib.lines.Line2D at 0x7f325c821d10>]"
            ]
          },
          "metadata": {
            "tags": []
          },
          "execution_count": 94
        },
        {
          "output_type": "display_data",
          "data": {
            "image/png": "[encoded data removed]",
            "text/plain": [
              "<Figure size 1080x288 with 2 Axes>"
            ]
          },
          "metadata": {
            "tags": []
          }
        }
      ]
    },
    {
      "cell_type": "markdown",
      "metadata": {
        "id": "TwVXqv7fWAKZ"
      },
      "source": [
        "#Data Statistics\n"
      ]
    },
    {
      "cell_type": "code",
      "metadata": {
        "colab": {
          "base_uri": "https://localhost:8080/",
          "height": 337
        },
        "id": "y-kNEnhuWVoB",
        "outputId": "55bdc38e-529f-4401-a06d-6fecc94ea89f"
      },
      "source": [
        "Data.sort_values('created_at').head(6)"
      ],
      "execution_count": null,
      "outputs": [
        {
          "output_type": "execute_result",
          "data": {
            "text/html": [
              "<div>\n",
              "<style scoped>\n",
              "    .dataframe tbody tr th:only-of-type {\n",
              "        vertical-align: middle;\n",
              "    }\n",
              "\n",
              "    .dataframe tbody tr th {\n",
              "        vertical-align: top;\n",
              "    }\n",
              "\n",
              "    .dataframe thead th {\n",
              "        text-align: right;\n",
              "    }\n",
              "</style>\n",
              "<table border=\"1\" class=\"dataframe\">\n",
              "  <thead>\n",
              "    <tr style=\"text-align: right;\">\n",
              "      <th></th>\n",
              "      <th>action</th>\n",
              "      <th>created_at</th>\n",
              "      <th>source_event_id</th>\n",
              "      <th>device_id</th>\n",
              "      <th>post_page_offset</th>\n",
              "      <th>tokens</th>\n",
              "      <th>post_index_in_post_list</th>\n",
              "      <th>post_token</th>\n",
              "      <th>tokens_length</th>\n",
              "    </tr>\n",
              "  </thead>\n",
              "  <tbody>\n",
              "    <tr>\n",
              "      <th>26178</th>\n",
              "      <td>load_post_page</td>\n",
              "      <td>2021-01-01 00:36:09.213</td>\n",
              "      <td>1fc5ef66-aaad-4cf5-8e36-1e974de66fdf</td>\n",
              "      <td>lJgu0b3FQG6_grFbXenl2Q</td>\n",
              "      <td>0.0</td>\n",
              "      <td>[wXtbOKF-, wXtLeB6p, wXpbfeIJ, wXt38PoX, wXt7K...</td>\n",
              "      <td>NaN</td>\n",
              "      <td>NaN</td>\n",
              "      <td>24.0</td>\n",
              "    </tr>\n",
              "    <tr>\n",
              "      <th>56013</th>\n",
              "      <td>load_post_page</td>\n",
              "      <td>2021-01-01 00:36:18.164</td>\n",
              "      <td>79910930-7296-4342-ae09-8e55e4803940</td>\n",
              "      <td>lJgu0b3FQG6_grFbXenl2Q</td>\n",
              "      <td>0.0</td>\n",
              "      <td>[wXvPByYA, wXmHw9qd, wXsPnrBu, wXsTzSjv, wXrXX...</td>\n",
              "      <td>NaN</td>\n",
              "      <td>NaN</td>\n",
              "      <td>24.0</td>\n",
              "    </tr>\n",
              "    <tr>\n",
              "      <th>68800</th>\n",
              "      <td>load_post_page</td>\n",
              "      <td>2021-01-01 00:37:05.007</td>\n",
              "      <td>79910930-7296-4342-ae09-8e55e4803940</td>\n",
              "      <td>lJgu0b3FQG6_grFbXenl2Q</td>\n",
              "      <td>1.0</td>\n",
              "      <td>[wXWrwAAW, wXVXrn3e, wXUrG55o, wXRvrx9F, wXIX6...</td>\n",
              "      <td>NaN</td>\n",
              "      <td>NaN</td>\n",
              "      <td>11.0</td>\n",
              "    </tr>\n",
              "    <tr>\n",
              "      <th>102202</th>\n",
              "      <td>load_post_page</td>\n",
              "      <td>2021-01-01 00:37:28.740</td>\n",
              "      <td>21a5377e-c7c2-4b08-805c-6b580e0f074d</td>\n",
              "      <td>lJgu0b3FQG6_grFbXenl2Q</td>\n",
              "      <td>0.0</td>\n",
              "      <td>[wXtT-_XF, wXs_6TLh, wXpneaBg, wXpX9Pdu, wXoL-...</td>\n",
              "      <td>NaN</td>\n",
              "      <td>NaN</td>\n",
              "      <td>17.0</td>\n",
              "    </tr>\n",
              "    <tr>\n",
              "      <th>24308</th>\n",
              "      <td>click_post</td>\n",
              "      <td>2021-01-01 00:37:43.452</td>\n",
              "      <td>21a5377e-c7c2-4b08-805c-6b580e0f074d</td>\n",
              "      <td>lJgu0b3FQG6_grFbXenl2Q</td>\n",
              "      <td>NaN</td>\n",
              "      <td>NaN</td>\n",
              "      <td>5.0</td>\n",
              "      <td>wXoL-Kbx</td>\n",
              "      <td>NaN</td>\n",
              "    </tr>\n",
              "    <tr>\n",
              "      <th>102919</th>\n",
              "      <td>click_post</td>\n",
              "      <td>2021-01-01 00:38:10.096</td>\n",
              "      <td>21a5377e-c7c2-4b08-805c-6b580e0f074d</td>\n",
              "      <td>lJgu0b3FQG6_grFbXenl2Q</td>\n",
              "      <td>NaN</td>\n",
              "      <td>NaN</td>\n",
              "      <td>8.0</td>\n",
              "      <td>wXgfv-Z0</td>\n",
              "      <td>NaN</td>\n",
              "    </tr>\n",
              "  </tbody>\n",
              "</table>\n",
              "</div>"
            ],
            "text/plain": [
              "                action              created_at  ... post_token tokens_length\n",
              "26178   load_post_page 2021-01-01 00:36:09.213  ...        NaN          24.0\n",
              "56013   load_post_page 2021-01-01 00:36:18.164  ...        NaN          24.0\n",
              "68800   load_post_page 2021-01-01 00:37:05.007  ...        NaN          11.0\n",
              "102202  load_post_page 2021-01-01 00:37:28.740  ...        NaN          17.0\n",
              "24308       click_post 2021-01-01 00:37:43.452  ...   wXoL-Kbx           NaN\n",
              "102919      click_post 2021-01-01 00:38:10.096  ...   wXgfv-Z0           NaN\n",
              "\n",
              "[6 rows x 9 columns]"
            ]
          },
          "metadata": {
            "tags": []
          },
          "execution_count": 95
        }
      ]
    },
    {
      "cell_type": "code",
      "metadata": {
        "colab": {
          "base_uri": "https://localhost:8080/"
        },
        "id": "1HONcsUk-y_-",
        "outputId": "d6b345aa-1abc-47be-81e7-589f936b7565"
      },
      "source": [
        "Data['post_token'].unique().size"
      ],
      "execution_count": null,
      "outputs": [
        {
          "output_type": "execute_result",
          "data": {
            "text/plain": [
              "56805"
            ]
          },
          "metadata": {
            "tags": []
          },
          "execution_count": 195
        }
      ]
    },
    {
      "cell_type": "code",
      "metadata": {
        "id": "cP3_jQHC_TsH"
      },
      "source": [
        "Data[Data['post_token']=='wXvz5Kzy'].sort_values('created_at')"
      ],
      "execution_count": null,
      "outputs": []
    },
    {
      "cell_type": "code",
      "metadata": {
        "colab": {
          "base_uri": "https://localhost:8080/"
        },
        "id": "5aDTz7C8_Hgw",
        "outputId": "6d01d89a-286c-413b-e22c-2ae1789cfd48"
      },
      "source": [
        "Data['post_token'].value_counts()"
      ],
      "execution_count": null,
      "outputs": [
        {
          "output_type": "execute_result",
          "data": {
            "text/plain": [
              "wXvz5Kzy    32\n",
              "wXv3aQrM    31\n",
              "wXvX4mek    28\n",
              "wXv_56iR    28\n",
              "wXvHqew1    24\n",
              "            ..\n",
              "wXjrc6zh     1\n",
              "wXoLVxjx     1\n",
              "wXXLjBF2     1\n",
              "wXbwzyZ_     1\n",
              "wXv_0RXM     1\n",
              "Name: post_token, Length: 56804, dtype: int64"
            ]
          },
          "metadata": {
            "tags": []
          },
          "execution_count": 201
        }
      ]
    },
    {
      "cell_type": "code",
      "metadata": {
        "colab": {
          "base_uri": "https://localhost:8080/"
        },
        "id": "tQbAvRZJ_Ch3",
        "outputId": "61e029e3-50ab-4d70-e79e-4c47f215d983"
      },
      "source": [
        "Data['post_token'].nunique()"
      ],
      "execution_count": null,
      "outputs": [
        {
          "output_type": "execute_result",
          "data": {
            "text/plain": [
              "56804"
            ]
          },
          "metadata": {
            "tags": []
          },
          "execution_count": 197
        }
      ]
    },
    {
      "cell_type": "code",
      "metadata": {
        "colab": {
          "base_uri": "https://localhost:8080/"
        },
        "id": "81SkR4fGtuS7",
        "outputId": "f8a74341-edf7-4787-d2e6-83c5956ee03b"
      },
      "source": [
        "Data['source_event_id'].nunique()"
      ],
      "execution_count": null,
      "outputs": [
        {
          "output_type": "execute_result",
          "data": {
            "text/plain": [
              "14296"
            ]
          },
          "metadata": {
            "tags": []
          },
          "execution_count": 96
        }
      ]
    },
    {
      "cell_type": "code",
      "metadata": {
        "colab": {
          "base_uri": "https://localhost:8080/"
        },
        "id": "rgKnVrMiWH0R",
        "outputId": "6b44b4c5-7117-41ad-f4a7-5eafaecc6329"
      },
      "source": [
        "Data['device_id'].nunique()"
      ],
      "execution_count": null,
      "outputs": [
        {
          "output_type": "execute_result",
          "data": {
            "text/plain": [
              "5012"
            ]
          },
          "metadata": {
            "tags": []
          },
          "execution_count": 97
        }
      ]
    },
    {
      "cell_type": "code",
      "metadata": {
        "colab": {
          "base_uri": "https://localhost:8080/"
        },
        "id": "AgYzVSgfWrMB",
        "outputId": "ecef95f7-7459-409a-cbfb-417f33d44f6d"
      },
      "source": [
        "Data[Data['action']=='load_post_page'].shape"
      ],
      "execution_count": null,
      "outputs": [
        {
          "output_type": "execute_result",
          "data": {
            "text/plain": [
              "(35287, 9)"
            ]
          },
          "metadata": {
            "tags": []
          },
          "execution_count": 98
        }
      ]
    },
    {
      "cell_type": "code",
      "metadata": {
        "colab": {
          "base_uri": "https://localhost:8080/"
        },
        "id": "_942um2YWiuJ",
        "outputId": "d22d3d22-4235-4d1d-fa04-91886e8ea182"
      },
      "source": [
        "Data[Data['action']=='click_post'].shape"
      ],
      "execution_count": null,
      "outputs": [
        {
          "output_type": "execute_result",
          "data": {
            "text/plain": [
              "(75796, 9)"
            ]
          },
          "metadata": {
            "tags": []
          },
          "execution_count": 99
        }
      ]
    },
    {
      "cell_type": "code",
      "metadata": {
        "colab": {
          "base_uri": "https://localhost:8080/"
        },
        "id": "wceksLuYV_ep",
        "outputId": "706917aa-b485-4559-e332-d0d167f9fda1"
      },
      "source": [
        "Data['source_event_id'].nunique()"
      ],
      "execution_count": null,
      "outputs": [
        {
          "output_type": "execute_result",
          "data": {
            "text/plain": [
              "14296"
            ]
          },
          "metadata": {
            "tags": []
          },
          "execution_count": 100
        }
      ]
    },
    {
      "cell_type": "code",
      "metadata": {
        "colab": {
          "base_uri": "https://localhost:8080/"
        },
        "id": "a3ERmw-8W8Lo",
        "outputId": "067c5d2f-90c7-434a-eccf-a302d4029121"
      },
      "source": [
        "Data[Data['action']=='click_post']['source_event_id'].nunique()"
      ],
      "execution_count": null,
      "outputs": [
        {
          "output_type": "execute_result",
          "data": {
            "text/plain": [
              "10820"
            ]
          },
          "metadata": {
            "tags": []
          },
          "execution_count": 102
        }
      ]
    },
    {
      "cell_type": "code",
      "metadata": {
        "colab": {
          "base_uri": "https://localhost:8080/"
        },
        "id": "l963qqDnWzKx",
        "outputId": "d48a7292-5a17-4709-9978-3034cbcfd1e2"
      },
      "source": [
        "Data[Data['action']=='load_post_page']['source_event_id'].nunique()"
      ],
      "execution_count": null,
      "outputs": [
        {
          "output_type": "execute_result",
          "data": {
            "text/plain": [
              "9381"
            ]
          },
          "metadata": {
            "tags": []
          },
          "execution_count": 103
        }
      ]
    },
    {
      "cell_type": "code",
      "metadata": {
        "colab": {
          "base_uri": "https://localhost:8080/"
        },
        "id": "28huQ4V-29_b",
        "outputId": "2cd41b29-626b-495d-d225-6ffead534783"
      },
      "source": [
        "print(Data['source_event_id'].nunique())\n",
        "print(Data[Data['action']=='click_post']['source_event_id'].nunique())\n",
        "print(Data[Data['action']=='click_post'].shape)\n",
        "print(Data[Data['action']=='load_post_page'].shape)"
      ],
      "execution_count": null,
      "outputs": [
        {
          "output_type": "stream",
          "text": [
            "14296\n",
            "10820\n",
            "(75796, 9)\n",
            "(35287, 9)\n"
          ],
          "name": "stdout"
        }
      ]
    },
    {
      "cell_type": "code",
      "metadata": {
        "id": "kcjs52Ta2Wjf"
      },
      "source": [
        "action_names=['click_post','load_post_page']\n",
        "action_size=[Data[Data['action']=='click_post'].shape[0],Data[Data['action']=='load_post_page'].shape[0]]"
      ],
      "execution_count": null,
      "outputs": []
    },
    {
      "cell_type": "code",
      "metadata": {
        "colab": {
          "base_uri": "https://localhost:8080/",
          "height": 337
        },
        "id": "q7D_wetUuuu0",
        "outputId": "b212912f-5117-4581-c221-b8f5b10e30ea"
      },
      "source": [
        "#@title\n",
        "plt.figure(figsize = (25,5))\n",
        "plt.subplot(1, 4, 1)\n",
        "plt.title('Page Offsets', fontsize=15)\n",
        "Data['post_page_offset'].plot.hist(fontsize=10)\n",
        "plt.subplot(1, 4, 2)\n",
        "plt.title('Click/Load', fontsize=15)\n",
        "plt.hist(action_names,weights=action_size)\n",
        "plt.subplot(1, 4, 3)\n",
        "plt.title('Post_index', fontsize=15)\n",
        "Data['post_index_in_post_list'].plot.hist(fontsize=10)\n",
        "plt.show()\n"
      ],
      "execution_count": null,
      "outputs": [
        {
          "output_type": "display_data",
          "data": {
            "image/png": "[encoded data removed]",
            "text/plain": [
              "<Figure size 1800x360 with 3 Axes>"
            ]
          },
          "metadata": {
            "tags": []
          }
        }
      ]
    },
    {
      "cell_type": "code",
      "metadata": {
        "id": "2N4k8seo09fW"
      },
      "source": [
        ""
      ],
      "execution_count": null,
      "outputs": []
    },
    {
      "cell_type": "markdown",
      "metadata": {
        "id": "Qj0Rc8gjBCXR"
      },
      "source": [
        "#Sankey Users Activities"
      ]
    },
    {
      "cell_type": "markdown",
      "metadata": {
        "id": "dZkTeuc_KjWy"
      },
      "source": [
        "### * You Can Download Sankey Diagram of App From Link Below:\n",
        "## https://drive.google.com/file/d/1-0EPh034VQ6I5MGzOhGSowZbEj_RcYnB/view?usp=sharing"
      ]
    },
    {
      "cell_type": "markdown",
      "metadata": {
        "id": "B_S_rr8DH-uB"
      },
      "source": [
        "First we should prepare data for using sankey plot "
      ]
    },
    {
      "cell_type": "code",
      "metadata": {
        "id": "JjIgnqEtW5cC"
      },
      "source": [
        "Data_Sankey=Data.copy()"
      ],
      "execution_count": null,
      "outputs": []
    },
    {
      "cell_type": "code",
      "metadata": {
        "colab": {
          "base_uri": "https://localhost:8080/"
        },
        "id": "CGG74EHzjDE0",
        "outputId": "9cd10c06-cb13-4418-ba00-43ea72ebbc95"
      },
      "source": [
        "Data.value_counts"
      ],
      "execution_count": null,
      "outputs": [
        {
          "output_type": "execute_result",
          "data": {
            "text/plain": [
              "<bound method DataFrame.value_counts of                 action              created_at  ... post_token tokens_length\n",
              "26178   load_post_page 2021-01-01 00:36:09.213  ...        NaN          24.0\n",
              "56013   load_post_page 2021-01-01 00:36:18.164  ...        NaN          24.0\n",
              "68800   load_post_page 2021-01-01 00:37:05.007  ...        NaN          11.0\n",
              "102202  load_post_page 2021-01-01 00:37:28.740  ...        NaN          17.0\n",
              "24308       click_post 2021-01-01 00:37:43.452  ...   wXoL-Kbx           NaN\n",
              "...                ...                     ...  ...        ...           ...\n",
              "49588       click_post 2021-01-03 00:25:06.532  ...   wXvzorm4           NaN\n",
              "44400       click_post 2021-01-03 00:26:23.942  ...   wXvTYk8B           NaN\n",
              "57126       click_post 2021-01-03 00:27:06.592  ...   wXvLYCQp           NaN\n",
              "5550        click_post 2021-01-03 00:27:22.914  ...   wXvLoezU           NaN\n",
              "22088       click_post 2021-01-03 00:28:32.004  ...   wXvjHt4X           NaN\n",
              "\n",
              "[111083 rows x 9 columns]>"
            ]
          },
          "metadata": {
            "tags": []
          },
          "execution_count": 160
        }
      ]
    },
    {
      "cell_type": "code",
      "metadata": {
        "colab": {
          "base_uri": "https://localhost:8080/"
        },
        "id": "2giH8jgCn0tc",
        "outputId": "d401ce6c-9c8d-4158-b2d8-a288ca6e17dd"
      },
      "source": [
        "Data_Sankey['action'].unique()"
      ],
      "execution_count": null,
      "outputs": [
        {
          "output_type": "execute_result",
          "data": {
            "text/plain": [
              "array(['load_post_page', 'click_post'], dtype=object)"
            ]
          },
          "metadata": {
            "tags": []
          },
          "execution_count": 161
        }
      ]
    },
    {
      "cell_type": "code",
      "metadata": {
        "colab": {
          "base_uri": "https://localhost:8080/"
        },
        "id": "BdBDFLdDnqx0",
        "outputId": "7e75ba76-1c31-413d-ac60-498aa82ebd84"
      },
      "source": [
        "Data_Sankey['post_page_offset'].unique()"
      ],
      "execution_count": null,
      "outputs": [
        {
          "output_type": "execute_result",
          "data": {
            "text/plain": [
              "array([  0.,   1.,  nan,   2.,   3.,   5.,   6.,   7.,   4.,  30.,   8.,\n",
              "         9.,  10.,  11.,  12.,  13.,  14.,  15.,  16.,  24., 149.,  25.,\n",
              "        20.,  43.,  17.,  21., 150.,  27.,  22., 138.,  41.,  18., 151.,\n",
              "        34.,  62., 115.,  31.,  42.,  28.,  98., 152.,  99.,  44., 100.,\n",
              "        73., 101., 102., 139., 103.,  60.,  26., 104., 105., 106.,  19.,\n",
              "        23.,  33.,  29., 107., 108., 109.,  50., 110.,  37., 140.,  40.,\n",
              "        61., 111.,  36., 112., 113., 114., 116.,  51., 117., 118., 119.,\n",
              "       120., 141.,  38.,  63.,  52., 121., 122., 142.,  32.,  64.,  53.,\n",
              "        74.,  35.,  54.,  55., 123., 124., 143.,  65.,  45.,  66.,  46.,\n",
              "        47.,  48.,  49., 125.,  67., 126., 144.,  39.,  56.,  68.,  57.,\n",
              "        69., 145.,  75., 127., 146.,  70., 128., 129.,  71.,  72., 147.,\n",
              "       148.,  76., 130., 131., 132., 133., 134., 135., 136., 137.,  77.,\n",
              "        78.,  79., 153.,  80., 154.,  81.,  58.,  82., 155.,  83.,  84.,\n",
              "       156.,  85.,  59.,  86.,  87., 157.,  88., 158.,  89., 159., 160.,\n",
              "       161.,  90.,  91.,  92.,  93.,  94.,  95.,  96.,  97.])"
            ]
          },
          "metadata": {
            "tags": []
          },
          "execution_count": 162
        }
      ]
    },
    {
      "cell_type": "code",
      "metadata": {
        "colab": {
          "base_uri": "https://localhost:8080/"
        },
        "id": "TVR-wkdnnljM",
        "outputId": "3c0e0908-4e02-47f6-b659-493fbcbc0923"
      },
      "source": [
        "Data_Sankey['post_index_in_post_list'].unique()"
      ],
      "execution_count": null,
      "outputs": [
        {
          "output_type": "execute_result",
          "data": {
            "text/plain": [
              "array([  nan,    5.,    8., ..., 1414., 2175., 2347.])"
            ]
          },
          "metadata": {
            "tags": []
          },
          "execution_count": 163
        }
      ]
    },
    {
      "cell_type": "code",
      "metadata": {
        "colab": {
          "base_uri": "https://localhost:8080/"
        },
        "id": "jsaESIDcjqCd",
        "outputId": "2f8c50d0-f6fe-4ccd-9b4f-31422a4abcb4"
      },
      "source": [
        "Data_Sankey['tokens_length'].unique()"
      ],
      "execution_count": null,
      "outputs": [
        {
          "output_type": "execute_result",
          "data": {
            "text/plain": [
              "array([24., 11., 17., nan,  5.,  2.,  7., 13., 10., 16., 23.,  1., 20.,\n",
              "        6., 22., 18.,  4.,  9., 19.,  3., 12.,  8., 14., 15., 21.])"
            ]
          },
          "metadata": {
            "tags": []
          },
          "execution_count": 164
        }
      ]
    },
    {
      "cell_type": "code",
      "metadata": {
        "id": "EV8IoeGgcQvD"
      },
      "source": [
        "Data_Sankey['tokens_length']= Data_Sankey['tokens_length'].apply(lambda x:  'No Post' if str(x)=='nan' else 'Length < 10' if (((int(x) < 11) and (\n",
        "    int(x)>0))) else '10 < Length < 24' if (((x>10) and (x<24))) else 'Length > 24' if int(x)==24  else 'nan')"
      ],
      "execution_count": null,
      "outputs": []
    },
    {
      "cell_type": "code",
      "metadata": {
        "id": "XsL411cEdVMi"
      },
      "source": [
        "Data_Sankey['post_page_offset']= Data_Sankey['post_page_offset'].apply(lambda x:  '-1' if str(x)=='nan'else 'offset > 10' if int(x)>=10 else str(x) )"
      ],
      "execution_count": null,
      "outputs": []
    },
    {
      "cell_type": "code",
      "metadata": {
        "id": "EFSJ0iEvenFk"
      },
      "source": [
        "Data_Sankey['post_index_in_post_list']= Data_Sankey['post_index_in_post_list'].apply(lambda x: 'nan' if str(x)=='nan' else 'Rank= '+str(x) if (\n",
        "    x<=10 and x>=0) else '10 < Rank < 25' if ((x>10)and(x<=24)) else '49 >Rank > 24' if  ((x>24)and(x<=48))  else 'Rank > 48' )"
      ],
      "execution_count": null,
      "outputs": []
    },
    {
      "cell_type": "code",
      "metadata": {
        "id": "5uveOD1klMRy"
      },
      "source": [
        "Data_Sankey=Data_Sankey[['action','post_page_offset','post_index_in_post_list','tokens_length']]"
      ],
      "execution_count": null,
      "outputs": []
    },
    {
      "cell_type": "code",
      "metadata": {
        "colab": {
          "base_uri": "https://localhost:8080/",
          "height": 204
        },
        "id": "FZ8s7N2lq8-e",
        "outputId": "935e5792-dd58-4f80-ee7c-d69795714303"
      },
      "source": [
        "Data_Sankey.head()"
      ],
      "execution_count": null,
      "outputs": [
        {
          "output_type": "execute_result",
          "data": {
            "text/html": [
              "<div>\n",
              "<style scoped>\n",
              "    .dataframe tbody tr th:only-of-type {\n",
              "        vertical-align: middle;\n",
              "    }\n",
              "\n",
              "    .dataframe tbody tr th {\n",
              "        vertical-align: top;\n",
              "    }\n",
              "\n",
              "    .dataframe thead th {\n",
              "        text-align: right;\n",
              "    }\n",
              "</style>\n",
              "<table border=\"1\" class=\"dataframe\">\n",
              "  <thead>\n",
              "    <tr style=\"text-align: right;\">\n",
              "      <th></th>\n",
              "      <th>action</th>\n",
              "      <th>post_page_offset</th>\n",
              "      <th>post_index_in_post_list</th>\n",
              "      <th>tokens_length</th>\n",
              "    </tr>\n",
              "  </thead>\n",
              "  <tbody>\n",
              "    <tr>\n",
              "      <th>26178</th>\n",
              "      <td>load_post_page</td>\n",
              "      <td>0.0</td>\n",
              "      <td>nan</td>\n",
              "      <td>Length &gt; 24</td>\n",
              "    </tr>\n",
              "    <tr>\n",
              "      <th>56013</th>\n",
              "      <td>load_post_page</td>\n",
              "      <td>0.0</td>\n",
              "      <td>nan</td>\n",
              "      <td>Length &gt; 24</td>\n",
              "    </tr>\n",
              "    <tr>\n",
              "      <th>68800</th>\n",
              "      <td>load_post_page</td>\n",
              "      <td>1.0</td>\n",
              "      <td>nan</td>\n",
              "      <td>10 &lt; Length &lt; 24</td>\n",
              "    </tr>\n",
              "    <tr>\n",
              "      <th>102202</th>\n",
              "      <td>load_post_page</td>\n",
              "      <td>0.0</td>\n",
              "      <td>nan</td>\n",
              "      <td>10 &lt; Length &lt; 24</td>\n",
              "    </tr>\n",
              "    <tr>\n",
              "      <th>24308</th>\n",
              "      <td>click_post</td>\n",
              "      <td>-1</td>\n",
              "      <td>Rank= 5.0</td>\n",
              "      <td>No Post</td>\n",
              "    </tr>\n",
              "  </tbody>\n",
              "</table>\n",
              "</div>"
            ],
            "text/plain": [
              "                action  ...     tokens_length\n",
              "26178   load_post_page  ...       Length > 24\n",
              "56013   load_post_page  ...       Length > 24\n",
              "68800   load_post_page  ...  10 < Length < 24\n",
              "102202  load_post_page  ...  10 < Length < 24\n",
              "24308       click_post  ...           No Post\n",
              "\n",
              "[5 rows x 4 columns]"
            ]
          },
          "metadata": {
            "tags": []
          },
          "execution_count": 169
        }
      ]
    },
    {
      "cell_type": "code",
      "metadata": {
        "id": "fIYFRNJ1YCB6"
      },
      "source": [
        "Data_Sankey=Data_Sankey.groupby(['action','post_page_offset','post_index_in_post_list','tokens_length'], dropna=False).size().reset_index(name='count')"
      ],
      "execution_count": null,
      "outputs": []
    },
    {
      "cell_type": "code",
      "metadata": {
        "colab": {
          "base_uri": "https://localhost:8080/"
        },
        "id": "wN2jlNn3CQ1a",
        "outputId": "f0f30998-b333-4d06-fcc0-340199b9b6b8"
      },
      "source": [
        "Data_Sankey.value_counts()"
      ],
      "execution_count": null,
      "outputs": [
        {
          "output_type": "execute_result",
          "data": {
            "text/plain": [
              "action          post_page_offset  post_index_in_post_list  tokens_length     count\n",
              "load_post_page  offset > 10       nan                      Length > 24       8308     1\n",
              "click_post      -1                Rank= 8.0                No Post           1393     1\n",
              "load_post_page  2.0               nan                      Length < 10       96       1\n",
              "                                                           10 < Length < 24  107      1\n",
              "                1.0               nan                      Length > 24       4443     1\n",
              "                                                           Length < 10       225      1\n",
              "                                                           10 < Length < 24  244      1\n",
              "                0.0               nan                      Length > 24       7131     1\n",
              "                                                           Length < 10       1256     1\n",
              "                                                           10 < Length < 24  658      1\n",
              "click_post      -1                Rank= 9.0                No Post           1262     1\n",
              "                                  Rank= 7.0                No Post           1532     1\n",
              "load_post_page  offset > 10       nan                      Length < 10       44       1\n",
              "click_post      -1                Rank= 6.0                No Post           1593     1\n",
              "                                  Rank= 5.0                No Post           1721     1\n",
              "                                  Rank= 4.0                No Post           1968     1\n",
              "                                  Rank= 3.0                No Post           2273     1\n",
              "                                  Rank= 2.0                No Post           2519     1\n",
              "                                  Rank= 10.0               No Post           1125     1\n",
              "                                  Rank= 1.0                No Post           2704     1\n",
              "                                  Rank > 48                No Post           34973    1\n",
              "                                  49 >Rank > 24            No Post           10763    1\n",
              "load_post_page  2.0               nan                      Length > 24       3086     1\n",
              "                3.0               nan                      10 < Length < 24  70       1\n",
              "                                                           Length < 10       55       1\n",
              "                                                           Length > 24       2304     1\n",
              "                offset > 10       nan                      10 < Length < 24  47       1\n",
              "                9.0               nan                      Length > 24       731      1\n",
              "                                                           Length < 10       9        1\n",
              "                                                           10 < Length < 24  13       1\n",
              "                8.0               nan                      Length > 24       860      1\n",
              "                                                           Length < 10       2        1\n",
              "                                                           10 < Length < 24  11       1\n",
              "                7.0               nan                      Length > 24       995      1\n",
              "                                                           Length < 10       7        1\n",
              "                                                           10 < Length < 24  12       1\n",
              "                6.0               nan                      Length > 24       1182     1\n",
              "                                                           Length < 10       16       1\n",
              "                                                           10 < Length < 24  22       1\n",
              "                5.0               nan                      Length > 24       1440     1\n",
              "                                                           Length < 10       15       1\n",
              "                                                           10 < Length < 24  35       1\n",
              "                4.0               nan                      Length > 24       1787     1\n",
              "                                                           Length < 10       32       1\n",
              "                                                           10 < Length < 24  44       1\n",
              "click_post      -1                10 < Rank < 25           No Post           11970    1\n",
              "dtype: int64"
            ]
          },
          "metadata": {
            "tags": []
          },
          "execution_count": 206
        }
      ]
    },
    {
      "cell_type": "code",
      "metadata": {
        "colab": {
          "base_uri": "https://localhost:8080/",
          "height": 17
        },
        "id": "NOFlKkFLl0GO",
        "outputId": "1e764ec9-1b14-416b-9bf0-eccb598d1d8b"
      },
      "source": [
        "import plotly\n",
        "import chart_studio.plotly as py\n",
        "\n",
        "from plotly.offline import download_plotlyjs, init_notebook_mode, plot, iplot\n",
        "init_notebook_mode(connected=True)\n",
        "\n",
        "def genSankey(df,cat_cols=[],value_cols='',title='Sankey Diagram'):\n",
        "    # maximum of 6 value cols -> 6 colors\n",
        "    colorPalette = ['#4B8BBE','#BCB6FF','#FFE873','#D72483','#94FBAB','#646464']\n",
        "    labelList = []\n",
        "    colorNumList = []\n",
        "    for catCol in cat_cols:\n",
        "        labelListTemp =  list(set(df[catCol].values))\n",
        "        colorNumList.append(len(labelListTemp))\n",
        "        labelList = labelList + labelListTemp\n",
        "        \n",
        "    # remove duplicates from labelList\n",
        "    labelList = list(dict.fromkeys(labelList))\n",
        "    \n",
        "    # define colors based on number of levels\n",
        "    colorList = []\n",
        "    for idx, colorNum in enumerate(colorNumList):\n",
        "        colorList = colorList + [colorPalette[idx]]*colorNum\n",
        "        \n",
        "    # transform df into a source-target pair\n",
        "    for i in range(len(cat_cols)-1):\n",
        "        if i==0:\n",
        "            sourceTargetDf = df[[cat_cols[i],cat_cols[i+1],value_cols]]\n",
        "            sourceTargetDf.columns = ['source','target','count']\n",
        "        else:\n",
        "            tempDf = df[[cat_cols[i],cat_cols[i+1],value_cols]]\n",
        "            tempDf.columns = ['source','target','count']\n",
        "            sourceTargetDf = pd.concat([sourceTargetDf,tempDf])\n",
        "        sourceTargetDf = sourceTargetDf.groupby(['source','target']).agg({'count':'sum'}).reset_index()\n",
        "        \n",
        "    # add index for source-target pair\n",
        "    sourceTargetDf['sourceID'] = sourceTargetDf['source'].apply(lambda x: labelList.index(x))\n",
        "    sourceTargetDf['targetID'] = sourceTargetDf['target'].apply(lambda x: labelList.index(x))\n",
        "    \n",
        "    # creating the sankey diagram\n",
        "    data = dict(\n",
        "        type='sankey',\n",
        "        node = dict(\n",
        "          pad = 15,\n",
        "          thickness = 20,\n",
        "          line = dict(\n",
        "            color = \"black\",\n",
        "            width = 0.5\n",
        "          ),\n",
        "          label = labelList,\n",
        "          color = colorList\n",
        "        ),\n",
        "        link = dict(\n",
        "          source = sourceTargetDf['sourceID'],\n",
        "          target = sourceTargetDf['targetID'],\n",
        "          value = sourceTargetDf['count']\n",
        "        )\n",
        "      )\n",
        "    \n",
        "    layout =  dict(\n",
        "        title = title,\n",
        "        font = dict(\n",
        "          size = 10\n",
        "        )\n",
        "    )\n",
        "       \n",
        "    fig = dict(data=[data], layout=layout)\n",
        "    return fig"
      ],
      "execution_count": null,
      "outputs": [
        {
          "output_type": "display_data",
          "data": {
            "text/html": [
              "        <script type=\"text/javascript\">\n",
              "        window.PlotlyConfig = {MathJaxConfig: 'local'};\n",
              "        if (window.MathJax) {MathJax.Hub.Config({SVG: {font: \"STIX-Web\"}});}\n",
              "        if (typeof require !== 'undefined') {\n",
              "        require.undef(\"plotly\");\n",
              "        requirejs.config({\n",
              "            paths: {\n",
              "                'plotly': ['https://cdn.plot.ly/plotly-latest.min']\n",
              "            }\n",
              "        });\n",
              "        require(['plotly'], function(Plotly) {\n",
              "            window._Plotly = Plotly;\n",
              "        });\n",
              "        }\n",
              "        </script>\n",
              "        "
            ]
          },
          "metadata": {
            "tags": []
          }
        }
      ]
    },
    {
      "cell_type": "code",
      "metadata": {
        "colab": {
          "base_uri": "https://localhost:8080/",
          "height": 35
        },
        "id": "Ts_niVjM0mrf",
        "outputId": "b0731daa-e033-4f5b-d0e5-1523d391f90a"
      },
      "source": [
        "import pandas as pd\n",
        "import plotly\n",
        "import chart_studio.plotly as py\n",
        "\n",
        "fig = genSankey(Data_Sankey,cat_cols=['action','post_page_offset','post_index_in_post_list','tokens_length'],value_cols='count',title='Users Activities')\n",
        "plotly.offline.plot(fig, validate=False)"
      ],
      "execution_count": null,
      "outputs": [
        {
          "output_type": "execute_result",
          "data": {
            "application/vnd.google.colaboratory.intrinsic+json": {
              "type": "string"
            },
            "text/plain": [
              "'temp-plot.html'"
            ]
          },
          "metadata": {
            "tags": []
          },
          "execution_count": 173
        }
      ]
    },
    {
      "cell_type": "code",
      "metadata": {
        "id": "u8jdze07MH1K"
      },
      "source": [
        ""
      ],
      "execution_count": null,
      "outputs": []
    },
    {
      "cell_type": "code",
      "metadata": {
        "id": "giZam3hhd5O0"
      },
      "source": [
        ""
      ],
      "execution_count": null,
      "outputs": []
    }
  ]
}